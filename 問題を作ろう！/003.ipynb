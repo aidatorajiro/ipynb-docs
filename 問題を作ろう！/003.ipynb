{
 "cells": [
  {
   "cell_type": "markdown",
   "metadata": {},
   "source": [
    "## 003: 無限の目を持つサイコロ\n",
    "\n",
    "今回はsympyで問題を作ると言うより、すでに作った問題を問題を解く、と言う形にしたいと思います。\n",
    "\n",
    "問題文:\n",
    "- - -\n",
    "\n",
    "ここに、ボタンを押すと、$\\frac{1}{2}$の確率で$1$が、$\\frac{1}{4}$の確率で$2$が、$\\frac{1}{8}$の確率で$3$が、$\\frac{1}{16}$の確率で$4$が、と言ったように、nを自然数として、$\\frac{1}{2^n}$の確率で$n$がスクリーン上に表示される機械がある。\n",
    "\n",
    "この機械のボタンを$2$回押し、表示された数を順に$a, b$とする時、次の問いに答えよ。\n",
    "\n",
    "(1) $a + b = 5$となる確率を求めよ。\n",
    "\n",
    "(2) $ab = 18$となる確率を求めよ。\n",
    "\n",
    "(3) $a = b$となる確率を求めよ。\n",
    "\n",
    "(4) $a = 2b$となる確率を求めよ。\n",
    "\n",
    "(5) $\\frac{a}{b}$が整数となる確率を求めよ。\n",
    "\n",
    "- - -\n",
    "\n",
    "### (1)\n",
    "\n",
    "まずは、(1)を解くために、$a + b = 5$となる自然数$a, b$の組を全て求めてみましょう。\n",
    "\n",
    "これは、$(a, b) = (1, 4), (2, 3), (3, 2), (4, 1)$です。\n",
    "\n",
    "（sympyで解かせようとしたけど、dekinakattayo....）\n",
    "\n",
    "あとはa, bの値に応じて、それぞれの場合の確率を求め、足し合わせれば良い。"
   ]
  },
  {
   "cell_type": "code",
   "execution_count": 96,
   "metadata": {
    "collapsed": false
   },
   "outputs": [
    {
     "data": {
      "image/png": "[encoded data removed]",
      "text/latex": [
       "$$\\frac{1}{8}$$"
      ],
      "text/plain": [
       "1/8"
      ]
     },
     "execution_count": 96,
     "metadata": {},
     "output_type": "execute_result"
    }
   ],
   "source": [
    "from sympy import *\n",
    "init_printing()\n",
    "\n",
    "sol1 = [(1,4),(2,3),(3,2),(4,1)]\n",
    "\n",
    "ans1 = 0\n",
    "\n",
    "for i in sol1:\n",
    "    ans1 += Rational(1, 2**i[0]) * Rational(1, 2**i[1])\n",
    "\n",
    "ans1"
   ]
  },
  {
   "cell_type": "markdown",
   "metadata": {},
   "source": [
    "## (2)"
   ]
  },
  {
   "cell_type": "markdown",
   "metadata": {},
   "source": [
    "これも同様に。しかしこの場合はディオファントス方程式のソルバーが使えるので、sympyに全部やらせよう。\n",
    "\n",
    "まずは、先程と同様に、$ab = 18$となる自然数$a, b$の組を全て求める。"
   ]
  },
  {
   "cell_type": "code",
   "execution_count": 97,
   "metadata": {
    "collapsed": false
   },
   "outputs": [
    {
     "data": {
      "image/png": "[encoded data removed]",
      "text/latex": [
       "$$\\left\\{\\left ( -18, \\quad -1\\right ), \\left ( -9, \\quad -2\\right ), \\left ( -6, \\quad -3\\right ), \\left ( -3, \\quad -6\\right ), \\left ( -2, \\quad -9\\right ), \\left ( -1, \\quad -18\\right ), \\left ( 1, \\quad 18\\right ), \\left ( 2, \\quad 9\\right ), \\left ( 3, \\quad 6\\right ), \\left ( 6, \\quad 3\\right ), \\left ( 9, \\quad 2\\right ), \\left ( 18, \\quad 1\\right )\\right\\}$$"
      ],
      "text/plain": [
       "set([(-18, -1), (-9, -2), (-6, -3), (-3, -6), (-2, -9), (-1, -18), (1, 18), (2\n",
       ", 9), (3, 6), (6, 3), (9, 2), (18, 1)])"
      ]
     },
     "execution_count": 97,
     "metadata": {},
     "output_type": "execute_result"
    }
   ],
   "source": [
    "from sympy.solvers.diophantine import diophantine\n",
    "a, b = symbols(\"a b\")\n",
    "\n",
    "sol2 = diophantine(a*b - 18)\n",
    "\n",
    "sol2"
   ]
  },
  {
   "cell_type": "markdown",
   "metadata": {},
   "source": [
    "あとは、a, bの組み合わせに応じて確率を求める。負の数やゼロはスクリーン上に表示されることはないので数えない。"
   ]
  },
  {
   "cell_type": "code",
   "execution_count": 106,
   "metadata": {
    "collapsed": false
   },
   "outputs": [
    {
     "data": {
      "image/png": "[encoded data removed]",
      "text/latex": [
       "$$\\frac{1281}{262144}$$"
      ],
      "text/plain": [
       " 1281 \n",
       "──────\n",
       "262144"
      ]
     },
     "execution_count": 106,
     "metadata": {},
     "output_type": "execute_result"
    }
   ],
   "source": [
    "ans2 = 0\n",
    "for i in sol2:\n",
    "    if i[0] > 0 and i[1] > 0:\n",
    "        ans2 += Rational(1, 2**i[0]) * Rational(1, 2**i[1])\n",
    "\n",
    "ans2"
   ]
  },
  {
   "cell_type": "markdown",
   "metadata": {},
   "source": [
    "結構えげつない数になったね！"
   ]
  },
  {
   "cell_type": "markdown",
   "metadata": {},
   "source": [
    "## (3)\n",
    "\n",
    "$a = b$と言うことは、aとbの数の組み合わせを考えると、\n",
    "$$(a, b) = (1, 1), (2, 2), (3, 3), (4, 4), (5, 5), (6, 6), \\cdots$$\n",
    "と言う感じになる。それぞれの確率を求めると、\n",
    "\n",
    "$(1, 1)$の時→$\\frac{1}{2} \\times \\frac{1}{2} = \\frac{1}{4}$\n",
    "\n",
    "$(2, 2)$の時→$\\frac{1}{4} \\times \\frac{1}{4} = \\frac{1}{16}$\n",
    "\n",
    "$(3, 3)$の時→$\\frac{1}{8} \\times \\frac{1}{8} = \\frac{1}{64}$\n",
    "\n",
    "$(4, 4)$の時→$\\frac{1}{16} \\times \\frac{1}{16} = \\frac{1}{256}$\n",
    "\n",
    "$(5, 5)$の時→$\\frac{1}{32} \\times \\frac{1}{32} = \\frac{1}{1024}$\n",
    "\n",
    "$(6, 6)$の時→$\\frac{1}{64} \\times \\frac{1}{64} = \\frac{1}{4096}$\n",
    "\n",
    "(以降、無限に続く・・・)\n",
    "\n",
    "と言った風になる。つまり、答えは、\n",
    "$$\\frac{1}{2^2} + \\frac{1}{2^4} + \\frac{1}{2^6} + \\frac{1}{2^8} + \\frac{1}{2^{10}} + \\frac{1}{2^{12}} + \\cdots = \\sum_{n=1}^{\\infty} 2^{-2n}$$\n",
    "となるわけです。ではこれを求めて見ましょう。"
   ]
  },
  {
   "cell_type": "code",
   "execution_count": 124,
   "metadata": {
    "collapsed": false
   },
   "outputs": [
    {
     "data": {
      "image/png": "[encoded data removed]",
      "text/latex": [
       "$$\\frac{1}{3}$$"
      ],
      "text/plain": [
       "1/3"
      ]
     },
     "execution_count": 124,
     "metadata": {},
     "output_type": "execute_result"
    }
   ],
   "source": [
    "n = Symbol(\"n\")\n",
    "ans3 = Sum(2**(-2*n), (n, 1, oo)).doit()\n",
    "ans3"
   ]
  },
  {
   "cell_type": "markdown",
   "metadata": {},
   "source": [
    "## (4)\n",
    "\n",
    "$a = 2b$の場合も同様にして、$$(a, b) = (2, 1), (4, 2), (6, 3), (8, 4), (10, 5), (12, 6), \\cdots$$となるので、\n",
    "$$\n",
    "\\begin{eqnarray}\n",
    "&&\\frac{1}{2^2} \\cdot \\frac{1}{2^1} &+ &\n",
    "\\frac{1}{2^4} \\cdot \\frac{1}{2^2} &+&\n",
    "\\frac{1}{2^6} \\cdot \\frac{1}{2^3} &+&\n",
    "\\frac{1}{2^8} \\cdot \\frac{1}{2^4} &+&\n",
    "\\frac{1}{2^{10}} \\cdot \\frac{1}{2^5} &+&\n",
    "\\frac{1}{2^{12}} \\cdot \\frac{1}{2^6} &+& \\cdots \\\\\n",
    "&=&\\frac{1}{2^3} &+& \\frac{1}{2^6} &+& \\frac{1}{2^9} &+& \\frac{1}{2^{12}} &+& \\frac{1}{2^{15}} &+& \\frac{1}{2^{18}} &+& \\cdots \\\\\n",
    "&=&\\sum_{n=1}^{\\infty} 2^{-3n}\n",
    "\\end{eqnarray}\n",
    "$$"
   ]
  },
  {
   "cell_type": "code",
   "execution_count": 125,
   "metadata": {
    "collapsed": false
   },
   "outputs": [
    {
     "data": {
      "image/png": "[encoded data removed]",
      "text/latex": [
       "$$\\frac{1}{7}$$"
      ],
      "text/plain": [
       "1/7"
      ]
     },
     "execution_count": 125,
     "metadata": {},
     "output_type": "execute_result"
    }
   ],
   "source": [
    "ans4 = Sum(2**(-3*n), (n, 1, oo)).doit()\n",
    "ans4"
   ]
  },
  {
   "cell_type": "markdown",
   "metadata": {},
   "source": [
    "## (5)\n",
    "\n",
    "$\\frac{a}{b}$が整数と言うことなので、その値を$m$とすると、\n",
    "$$\n",
    "\\begin{eqnarray}\n",
    "\\frac{a}{b} &=& m \\\\\n",
    "a &=& mb\n",
    "\\end{eqnarray}\n",
    "$$\n",
    "となる。この$m$に好きな数字を入れて行き、それが成り立つ確率を全て足し合わせればいいので、答えは、\n",
    "\n",
    "[$a = b$が成り立つ確率]+[$a = 2b$が成り立つ確率]+[$a = 3b$が成り立つ確率]+[$a = 4b$が成り立つ確率]+...\n",
    "\n",
    "と言うことになる。ではまず、(3)や(4)をもう少し一般化させ、$a = mb$が成り立つ確率を求めてみる。\n",
    "\n",
    "$a = mb$が成り立つ時、aとbの数の組み合わせを考えると、\n",
    "$$(a, b) = (m, 1), (2m, 2), (3m, 3), (4m, 4), (5m, 5), (6m, 6), \\cdots$$\n",
    "したがって、この式が成り立つ確率は、\n",
    "\\begin{eqnarray}\n",
    "&&\\frac{1}{2^m} \\cdot \\frac{1}{2^1} &+& \n",
    "\\frac{1}{2^{2m}} \\cdot \\frac{1}{2^2} &+&\n",
    "\\frac{1}{2^{3m}} \\cdot \\frac{1}{2^3} &+&\n",
    "\\frac{1}{2^{4m}} \\cdot \\frac{1}{2^4} &+&\n",
    "\\frac{1}{2^{5m}} \\cdot \\frac{1}{2^5} &+&\n",
    "\\frac{1}{2^{6m}} \\cdot \\frac{1}{2^6} &+& \\cdots \\\\\n",
    "&=&\\frac{1}{2^{m+1}} &+& \\frac{1}{2^{2m+2}} &+& \\frac{1}{2^{3m+3}} &+& \\frac{1}{2^{4m+4}} &+& \\frac{1}{2^{5m+5}} &+& \\frac{1}{2^{6m+6}} &+& \\cdots \\\\\n",
    "&=&\\sum_{n=1}^{\\infty} 2^{-(m+1)n}\n",
    "\\end{eqnarray}\n",
    "となる。\n",
    "\n",
    "これを計算すると、"
   ]
  },
  {
   "cell_type": "code",
   "execution_count": 238,
   "metadata": {
    "collapsed": false
   },
   "outputs": [
    {
     "data": {
      "image/png": "[encoded data removed]",
      "text/latex": [
       "$$\\sum_{n=1}^{\\infty} 2^{n \\left(- m - 1\\right)}$$"
      ],
      "text/plain": [
       "  ∞              \n",
       " ___             \n",
       " ╲               \n",
       "  ╲    n⋅(-m - 1)\n",
       "  ╱   2          \n",
       " ╱               \n",
       " ‾‾‾             \n",
       "n = 1            "
      ]
     },
     "execution_count": 238,
     "metadata": {},
     "output_type": "execute_result"
    }
   ],
   "source": [
    "m = Symbol(\"m\", integer=True, positive=True)\n",
    "sum1 = Sum(2**(-(m+1)*n), (n, 1, oo)).doit()\n",
    "sum1"
   ]
  },
  {
   "cell_type": "markdown",
   "metadata": {},
   "source": [
    "なんかできなかったので、x=[さっきの式]と言う式を手動で作る。"
   ]
  },
  {
   "cell_type": "markdown",
   "metadata": {},
   "source": [
    "\\begin{eqnarray}\n",
    "x &=&\\frac{1}{2^{m+1}} + \\frac{1}{2^{2m+2}} + \\frac{1}{2^{3m+3}} + \\frac{1}{2^{4m+4}} + \\frac{1}{2^{5m+5}} + \\frac{1}{2^{6m+6}} + \\cdots \\\\\n",
    "x &=&\\frac{1}{2^{m+1}} + \\frac{1}{2^{m+1}}x\n",
    "\\end{eqnarray}\n",
    "\n",
    "解く。"
   ]
  },
  {
   "cell_type": "code",
   "execution_count": 241,
   "metadata": {
    "collapsed": false
   },
   "outputs": [
    {
     "data": {
      "image/png": "[encoded data removed]",
      "text/latex": [
       "$$\\left [ \\left \\{ x : \\frac{1}{2^{m + 1} - 1}\\right \\}\\right ]$$"
      ],
      "text/plain": [
       "⎡⎧       1     ⎫⎤\n",
       "⎢⎪x: ──────────⎪⎥\n",
       "⎢⎨    m + 1    ⎬⎥\n",
       "⎢⎪   2      - 1⎪⎥\n",
       "⎣⎩             ⎭⎦"
      ]
     },
     "execution_count": 241,
     "metadata": {},
     "output_type": "execute_result"
    }
   ],
   "source": [
    "x =  Symbol(\"x\")\n",
    "sol3 = solve(Eq(x, 1/(2**(m+1)) + x/(2**(m+1))))\n",
    "sol3"
   ]
  },
  {
   "cell_type": "code",
   "execution_count": 248,
   "metadata": {
    "collapsed": false
   },
   "outputs": [
    {
     "data": {
      "text/plain": [
       "True"
      ]
     },
     "execution_count": 248,
     "metadata": {},
     "output_type": "execute_result"
    }
   ],
   "source": [
    "sum2 = sol3[0][x]\n",
    "sum2.subs(m, 99) == sum1.subs(m, 99).doit() # テストケース(笑)"
   ]
  },
  {
   "cell_type": "markdown",
   "metadata": {},
   "source": [
    "うん。テストケース(笑)も通ったようだし、これで大丈夫だね！\n",
    "\n",
    "そしたら、さっきの式に$m=1$を代入したものから$m=\\infty$を代入したものまでを足し合わせたものが、答えになる。"
   ]
  },
  {
   "cell_type": "code",
   "execution_count": 287,
   "metadata": {
    "collapsed": false
   },
   "outputs": [
    {
     "data": {
      "image/png": "[encoded data removed]",
      "text/latex": [
       "$$\\sum_{m=1}^{\\infty} \\frac{1}{2^{m + 1} - 1}$$"
      ],
      "text/plain": [
       "  ∞             \n",
       " ____           \n",
       " ╲              \n",
       "  ╲       1     \n",
       "   ╲  ──────────\n",
       "   ╱   m + 1    \n",
       "  ╱   2      - 1\n",
       " ╱              \n",
       " ‾‾‾‾           \n",
       "m = 1           "
      ]
     },
     "execution_count": 287,
     "metadata": {},
     "output_type": "execute_result"
    }
   ],
   "source": [
    "ans5_sum = Sum(sum2, (m, 1, oo)).doit()\n",
    "ans5_sum"
   ]
  },
  {
   "cell_type": "markdown",
   "metadata": {},
   "source": [
    "あれれ。。これもまた計算できないやつか。\n",
    "とりあえず数値にして見よう。"
   ]
  },
  {
   "cell_type": "code",
   "execution_count": 301,
   "metadata": {
    "collapsed": false
   },
   "outputs": [
    {
     "data": {
      "image/png": "[encoded data removed]",
      "text/latex": [
       "$$0.606695152415292$$"
      ],
      "text/plain": [
       "0.606695152415292"
      ]
     },
     "execution_count": 301,
     "metadata": {},
     "output_type": "execute_result"
    }
   ],
   "source": [
    "ans5_sum.evalf()"
   ]
  },
  {
   "cell_type": "markdown",
   "metadata": {},
   "source": [
    "だいたい60%と言ったところか。\n",
    "うーん。小数点第3位以下を四捨五入しよう。"
   ]
  },
  {
   "cell_type": "code",
   "execution_count": 290,
   "metadata": {
    "collapsed": false
   },
   "outputs": [
    {
     "data": {
      "image/png": "[encoded data removed]",
      "text/latex": [
       "$$0.61$$"
      ],
      "text/plain": [
       "0.61"
      ]
     },
     "execution_count": 290,
     "metadata": {},
     "output_type": "execute_result"
    }
   ],
   "source": [
    "ans5 = ans5_sum.evalf().round(2)\n",
    "ans5"
   ]
  },
  {
   "cell_type": "markdown",
   "metadata": {},
   "source": [
    "## おまけ\n",
    "\n",
    "表にしてみた。"
   ]
  },
  {
   "cell_type": "code",
   "execution_count": 402,
   "metadata": {
    "collapsed": false
   },
   "outputs": [
    {
     "ename": "SyntaxError",
     "evalue": "invalid syntax (<ipython-input-402-f40e32ddb21c>, line 23)",
     "output_type": "error",
     "traceback": [
      "\u001b[0;36m  File \u001b[0;32m\"<ipython-input-402-f40e32ddb21c>\"\u001b[0;36m, line \u001b[0;32m23\u001b[0m\n\u001b[0;31m    df2 =\u001b[0m\n\u001b[0m          ^\u001b[0m\n\u001b[0;31mSyntaxError\u001b[0m\u001b[0;31m:\u001b[0m invalid syntax\n"
     ]
    }
   ],
   "source": [
    "import colorsys\n",
    "\n",
    "w = 10\n",
    "h = 10\n",
    "data = []\n",
    "\n",
    "for i in range(1, w+1):\n",
    "    tmparr = []\n",
    "    for j in range(1, h+1):\n",
    "        tmparr.append(Rational(1, 2**i)*Rational(1, 2**j))\n",
    "    data.append(tmparr)\n",
    "\n",
    "def colorize(x):\n",
    "    rgb = colorsys.hsv_to_rgb(0, 0, 1-x)\n",
    "    return \"background-color: rgb(%d, %d, %d)\" % tuple(map(lambda x: floor(x*255), rgb))\n",
    "\n",
    "import pandas\n",
    "df = pandas.DataFrame(data)\n",
    "df.index = list(range(1, w+1))\n",
    "df.columns = list(range(1, h+1))\n",
    "df.style.applymap(colorize)"
   ]
  },
  {
   "cell_type": "code",
   "execution_count": null,
   "metadata": {
    "collapsed": true
   },
   "outputs": [],
   "source": []
  }
 ],
 "metadata": {
  "kernelspec": {
   "display_name": "Python 3",
   "language": "python",
   "name": "python3"
  },
  "language_info": {
   "codemirror_mode": {
    "name": "ipython",
    "version": 3
   },
   "file_extension": ".py",
   "mimetype": "text/x-python",
   "name": "python",
   "nbconvert_exporter": "python",
   "pygments_lexer": "ipython3",
   "version": "3.4.4"
  }
 },
 "nbformat": 4,
 "nbformat_minor": 0
}
