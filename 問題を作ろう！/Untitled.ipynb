{
 "cells": [
  {
   "cell_type": "markdown",
   "metadata": {},
   "source": [
    "# 問題を作ろう！"
   ]
  },
  {
   "cell_type": "code",
   "execution_count": 1,
   "metadata": {
    "collapsed": false
   },
   "outputs": [],
   "source": [
    "%matplotlib inline\n",
    "from sympy import *\n",
    "init_printing()"
   ]
  },
  {
   "cell_type": "markdown",
   "metadata": {},
   "source": [
    "## 001: 太郎くんの受験\n",
    "太郎くんは合格可能性がそれぞれ$a\\%$, $b\\%$, $50\\%$のA高校, B高校, C高校を受験する。この時、太郎くんが受ける全ての学校に合格する確率は$20\\%$であった。しかし, C高校の願書を出し忘れてしまったためA高校とB高校のみの受験となり、その結果、今度は高校に行ける確率が$20\\%$になってしまった。$a$, $b$の値を求めよ。\n",
    "\n",
    "- - -\n",
    "\n",
    "では、まず適当に値を考えて作ってみた、この問題を解いてみよう。\n",
    "この場合、文字が2つなので、2つの式を立てれば良い。\n",
    "一つ目の式は、合格可能性がそれぞれ$a\\%$, $b\\%$, $50\\%$のA高校, B高校, C高校全てに合格する確率が20%なので、"
   ]
  },
  {
   "cell_type": "code",
   "execution_count": 2,
   "metadata": {
    "collapsed": false
   },
   "outputs": [
    {
     "data": {
      "image/png": "[encoded data removed]",
      "text/latex": [
       "$$\\frac{a b}{20000} = \\frac{1}{5}$$"
      ],
      "text/plain": [
       " a⋅b       \n",
       "───── = 1/5\n",
       "20000      "
      ]
     },
     "execution_count": 2,
     "metadata": {},
     "output_type": "execute_result"
    }
   ],
   "source": [
    "a, b = symbols(\"a b\")\n",
    "eq1 = Eq((a/100)*(b/100)*Rational(50, 100), Rational(20, 100))\n",
    "eq1"
   ]
  },
  {
   "cell_type": "markdown",
   "metadata": {},
   "source": [
    "となる。\n",
    "\n",
    "二つ目の式は、A高校とB高校のみ受験した場合、高校に行ける確率が20%になった、と言うことは、A高校に落ち、さらにB高校に落ちる確率が80%ということなので、"
   ]
  },
  {
   "cell_type": "code",
   "execution_count": 3,
   "metadata": {
    "collapsed": false
   },
   "outputs": [
    {
     "data": {
      "image/png": "[encoded data removed]",
      "text/latex": [
       "$$\\left(- \\frac{a}{100} + 1\\right) \\left(- \\frac{b}{100} + 1\\right) = \\frac{4}{5}$$"
      ],
      "text/plain": [
       "⎛   a     ⎞ ⎛   b     ⎞      \n",
       "⎜- ─── + 1⎟⋅⎜- ─── + 1⎟ = 4/5\n",
       "⎝  100    ⎠ ⎝  100    ⎠      "
      ]
     },
     "execution_count": 3,
     "metadata": {},
     "output_type": "execute_result"
    }
   ],
   "source": [
    "eq2 = Eq((1-(a/100))*(1-(b/100)), Rational(80, 100))\n",
    "eq2"
   ]
  },
  {
   "cell_type": "markdown",
   "metadata": {},
   "source": [
    "これを解くと、"
   ]
  },
  {
   "cell_type": "code",
   "execution_count": 4,
   "metadata": {
    "collapsed": false
   },
   "outputs": [
    {
     "data": {
      "image/png": "[encoded data removed]",
      "text/latex": [
       "$$\\left [ \\left \\{ a : 30 - 10 \\sqrt{31} i, \\quad b : 30 + 10 \\sqrt{31} i\\right \\}, \\quad \\left \\{ a : 30 + 10 \\sqrt{31} i, \\quad b : 30 - 10 \\sqrt{31} i\\right \\}\\right ]$$"
      ],
      "text/plain": [
       "[{a: 30 - 10⋅√31⋅ⅈ, b: 30 + 10⋅√31⋅ⅈ}, {a: 30 + 10⋅√31⋅ⅈ, b: 30 - 10⋅√31⋅ⅈ}]"
      ]
     },
     "execution_count": 4,
     "metadata": {},
     "output_type": "execute_result"
    }
   ],
   "source": [
    "solve([eq1, eq2])"
   ]
  },
  {
   "cell_type": "markdown",
   "metadata": {},
   "source": [
    "あれれ。虚数解になっちゃった。。。。"
   ]
  },
  {
   "cell_type": "code",
   "execution_count": 5,
   "metadata": {
    "collapsed": true
   },
   "outputs": [],
   "source": [
    "del a, b, eq1, eq2 # お掃除"
   ]
  },
  {
   "cell_type": "markdown",
   "metadata": {},
   "source": [
    "### 問題を作り直そう\n",
    "\n",
    "てな訳で、問題を作り直さなきゃならないみたいです。まあでも、願書を出し忘れてしまったために全部受かる確率と高校に行ける確率が同じになってしまったと言うのは面白いから、この2つは同じ、と言う条件でいきましょう。ここでsympyの本領発揮、です。\n",
    "\n",
    "まずは、問題文に出てくる数字を文字でおきます。\n",
    "\n",
    "- - -\n",
    "\n",
    "太郎くんは合格可能性がそれぞれ$a\\%$, $b\\%$, $p\\%$のA高校, B高校, C高校を受験する。この時、太郎くんが受ける全ての学校に合格する確率は$q\\%$であった。しかし, C高校の願書を出し忘れてしまったためA高校とB高校のみの受験となり、その結果、今度は高校に行ける確率が$q\\%$になってしまった。$a$, $b$の値を求めよ。\n",
    "\n",
    "- - -\n",
    "\n",
    "次に、一つ条件を作りたいと思います。\n",
    "\n",
    "* $a$, $b$, $p$, $q$は$0$より大きく、$100$より小さい数\n",
    "\n",
    "この条件と、2つの等式で、解かせてみます。"
   ]
  },
  {
   "cell_type": "code",
   "execution_count": 6,
   "metadata": {
    "collapsed": false
   },
   "outputs": [
    {
     "data": {
      "image/png": "[encoded data removed]",
      "text/latex": [
       "$$\\frac{a b}{1000000} p = \\frac{q}{100}$$"
      ],
      "text/plain": [
       " a⋅b⋅p     q \n",
       "─────── = ───\n",
       "1000000   100"
      ]
     },
     "execution_count": 6,
     "metadata": {},
     "output_type": "execute_result"
    }
   ],
   "source": [
    "a, b = symbols(\"a b\")\n",
    "p, q = symbols(\"p q\")\n",
    "eq1 = Eq((a/100)*(b/100)*(p/100), (q/100))\n",
    "eq1"
   ]
  },
  {
   "cell_type": "code",
   "execution_count": 7,
   "metadata": {
    "collapsed": false
   },
   "outputs": [
    {
     "data": {
      "image/png": "[encoded data removed]",
      "text/latex": [
       "$$\\left(- \\frac{a}{100} + 1\\right) \\left(- \\frac{b}{100} + 1\\right) = - \\frac{q}{100} + 1$$"
      ],
      "text/plain": [
       "⎛   a     ⎞ ⎛   b     ⎞      q     \n",
       "⎜- ─── + 1⎟⋅⎜- ─── + 1⎟ = - ─── + 1\n",
       "⎝  100    ⎠ ⎝  100    ⎠     100    "
      ]
     },
     "execution_count": 7,
     "metadata": {},
     "output_type": "execute_result"
    }
   ],
   "source": [
    "eq2 = Eq((1-(a/100))*(1-(b/100)), 1 - (q/100))\n",
    "eq2"
   ]
  },
  {
   "cell_type": "code",
   "execution_count": 8,
   "metadata": {
    "collapsed": false
   },
   "outputs": [
    {
     "name": "stdout",
     "output_type": "stream",
     "text": [
      "p = 1: False\n",
      "p = 2: False\n",
      "p = 3: False\n",
      "p = 4: False\n",
      "p = 5: False\n",
      "p = 6: False\n",
      "p = 7: False\n",
      "p = 8: False\n",
      "p = 9: False\n",
      "p = 10: False\n",
      "p = 11: False\n",
      "p = 12: False\n",
      "p = 13: False\n",
      "p = 14: False\n",
      "p = 15: False\n",
      "p = 16: False\n",
      "p = 17: False\n",
      "p = 18: False\n",
      "p = 19: False\n",
      "p = 20: False\n",
      "p = 21: False\n",
      "p = 22: False\n",
      "p = 23: False\n",
      "p = 24: False\n",
      "p = 25: False\n",
      "p = 26: False\n",
      "p = 27: False\n",
      "p = 28: False\n",
      "p = 29: False\n",
      "p = 30: False\n",
      "p = 31: False\n",
      "p = 32: False\n",
      "p = 33: False\n",
      "p = 34: False\n",
      "p = 35: False\n",
      "p = 36: False\n",
      "p = 37: False\n",
      "p = 38: False\n",
      "p = 39: False\n",
      "p = 40: False\n",
      "p = 41: False\n",
      "p = 42: False\n",
      "p = 43: False\n",
      "p = 44: False\n",
      "p = 45: False\n",
      "p = 46: False\n",
      "p = 47: False\n",
      "p = 48: False\n",
      "p = 49: False\n",
      "p = 50: False\n",
      "p = 51: False\n",
      "p = 52: False\n",
      "p = 53: False\n",
      "p = 54: False\n",
      "p = 55: False\n",
      "p = 56: False\n",
      "p = 57: False\n",
      "p = 58: False\n",
      "p = 59: False\n",
      "p = 60: False\n",
      "p = 61: False\n",
      "p = 62: False\n",
      "p = 63: False\n",
      "p = 64: False\n",
      "p = 65: False\n",
      "p = 66: False\n",
      "p = 67: False\n",
      "p = 68: False\n",
      "p = 69: False\n",
      "p = 70: False\n",
      "p = 71: False\n",
      "p = 72: False\n",
      "p = 73: False\n",
      "p = 74: False\n",
      "p = 75: False\n",
      "p = 76: False\n",
      "p = 77: False\n",
      "p = 78: False\n",
      "p = 79: False\n",
      "p = 80: False\n",
      "p = 81: False\n",
      "p = 82: False\n",
      "p = 83: False\n",
      "p = 84: False\n",
      "p = 85: False\n",
      "p = 86: False\n",
      "p = 87: False\n",
      "p = 88: False\n",
      "p = 89: False\n",
      "p = 90: False\n",
      "p = 91: False\n",
      "p = 92: False\n",
      "p = 93: False\n",
      "p = 94: False\n",
      "p = 95: False\n",
      "p = 96: False\n",
      "p = 97: False\n",
      "p = 98: False\n",
      "p = 99: False\n"
     ]
    }
   ],
   "source": [
    "for i in range(1, 100): # forループでやってみよー\n",
    "    st = \"\"\n",
    "    eq3 = Eq(p, i)\n",
    "    st += \"p = \" + str(i) + \": \"\n",
    "    sol1 = solve([eq1, eq2, eq3])\n",
    "    sol2 = solve([0 < sol1[0][a], sol1[0][a] < 100])\n",
    "    if sol2 == False:\n",
    "        st += \"False\"\n",
    "    else:\n",
    "        st += str(sol2)\n",
    "    \n",
    "    print(st)"
   ]
  },
  {
   "cell_type": "code",
   "execution_count": 9,
   "metadata": {
    "collapsed": false
   },
   "outputs": [],
   "source": [
    "del a, b, eq1, eq2, eq3, st, sol1, sol2"
   ]
  },
  {
   "cell_type": "markdown",
   "metadata": {},
   "source": [
    "あらら。ダメっぽい？\n",
    "ちょっと問題文の方を変えて見ようか。\n",
    "\n",
    "### 問題を作り直そう その2"
   ]
  },
  {
   "cell_type": "markdown",
   "metadata": {},
   "source": [
    "諦めて文字を増やす。その代わりp,q,rは整数な!\n",
    "\n",
    "- - -\n",
    "\n",
    "太郎くんは合格可能性がそれぞれ$a\\%$, $b\\%$, $p\\%$のA高校, B高校, C高校を受験する。この時、太郎くんが受ける全ての学校に合格する確率は$q\\%$であった。しかし, C高校の願書を出し忘れてしまったためA高校とB高校のみの受験となり、その結果、今度は高校に行ける確率が$r\\%$になってしまった。$a$, $b$の値を求めよ。\n",
    "\n",
    "- - -"
   ]
  },
  {
   "cell_type": "code",
   "execution_count": 10,
   "metadata": {
    "collapsed": false
   },
   "outputs": [
    {
     "data": {
      "image/png": "[encoded data removed]",
      "text/latex": [
       "$$\\frac{a b}{1000000} p = \\frac{q}{100}$$"
      ],
      "text/plain": [
       " a⋅b⋅p     q \n",
       "─────── = ───\n",
       "1000000   100"
      ]
     },
     "execution_count": 10,
     "metadata": {},
     "output_type": "execute_result"
    }
   ],
   "source": [
    "a, b = symbols(\"a b\", real=True)\n",
    "p, q, r = symbols(\"p q r\", integer=True, real=True)\n",
    "eq1 = Eq((a/100)*(b/100)*(p/100), (q/100))\n",
    "eq1"
   ]
  },
  {
   "cell_type": "code",
   "execution_count": 11,
   "metadata": {
    "collapsed": false
   },
   "outputs": [
    {
     "data": {
      "image/png": "[encoded data removed]",
      "text/latex": [
       "$$\\left(- \\frac{a}{100} + 1\\right) \\left(- \\frac{b}{100} + 1\\right) = - \\frac{r}{100} + 1$$"
      ],
      "text/plain": [
       "⎛   a     ⎞ ⎛   b     ⎞      r     \n",
       "⎜- ─── + 1⎟⋅⎜- ─── + 1⎟ = - ─── + 1\n",
       "⎝  100    ⎠ ⎝  100    ⎠     100    "
      ]
     },
     "execution_count": 11,
     "metadata": {},
     "output_type": "execute_result"
    }
   ],
   "source": [
    "eq2 = Eq((1-(a/100))*(1-(b/100)), 1 - (r/100))\n",
    "eq2"
   ]
  },
  {
   "cell_type": "markdown",
   "metadata": {},
   "source": [
    "あとはどんどん数を当てはめていって・・・・"
   ]
  },
  {
   "cell_type": "code",
   "execution_count": 12,
   "metadata": {
    "collapsed": false
   },
   "outputs": [],
   "source": [
    "eq3 = Eq(r, 20)\n",
    "eq4 = Eq(p, 95)\n",
    "eq5 = Eq(q, 1)"
   ]
  },
  {
   "cell_type": "code",
   "execution_count": 13,
   "metadata": {
    "collapsed": false
   },
   "outputs": [
    {
     "data": {
      "image/png": "[encoded data removed]",
      "text/latex": [
       "$$\\left [ \\left \\{ a : - \\frac{20 \\sqrt{5}}{19} + \\frac{200}{19}, \\quad b : \\frac{20 \\sqrt{5}}{19} + \\frac{200}{19}, \\quad p : 95, \\quad q : 1, \\quad r : 20\\right \\}, \\quad \\left \\{ a : \\frac{20 \\sqrt{5}}{19} + \\frac{200}{19}, \\quad b : - \\frac{20 \\sqrt{5}}{19} + \\frac{200}{19}, \\quad p : 95, \\quad q : 1, \\quad r : 20\\right \\}\\right ]$$"
      ],
      "text/plain": [
       "⎡⎧     20⋅√5   200     20⋅√5   200                    ⎫  ⎧   20⋅√5   200      \n",
       "⎢⎨a: - ───── + ───, b: ───── + ───, p: 95, q: 1, r: 20⎬, ⎨a: ───── + ───, b: -\n",
       "⎣⎩       19     19       19     19                    ⎭  ⎩     19     19      \n",
       "\n",
       " 20⋅√5   200                    ⎫⎤\n",
       " ───── + ───, p: 95, q: 1, r: 20⎬⎥\n",
       "   19     19                    ⎭⎦"
      ]
     },
     "execution_count": 13,
     "metadata": {},
     "output_type": "execute_result"
    }
   ],
   "source": [
    "solve([eq1, eq2, eq3, eq4, eq5])"
   ]
  },
  {
   "cell_type": "markdown",
   "metadata": {},
   "source": [
    "$r=20$, $p=95$, $q=1$となりました！\n",
    "\n",
    "最終的な問題文：\n",
    "\n",
    "- - -\n",
    "\n",
    "太郎くんは合格可能性がそれぞれ$a\\%$, $b\\%$, $95\\%$のA高校, B高校, C高校を受験する。この時、太郎くんが受ける全ての学校に合格する確率は$1\\%$であった。しかし, C高校の願書を出し忘れてしまったためA高校とB高校のみの受験となり、その結果、高校に行ける確率が$20\\%$になってしまった。$a$, $b$の値を求めよ。\n",
    "\n",
    "- - -\n",
    "\n",
    "答え：$(a=-\\frac{20\\sqrt{5}}{19}+\\frac{200}{19}, b=\\frac{20\\sqrt{5}}{19}+\\frac{200}{19}), (a=\\frac{20\\sqrt{5}}{19}+\\frac{200}{19}, b=-\\frac{20\\sqrt{5}}{19}+\\frac{200}{19})$"
   ]
  },
  {
   "cell_type": "markdown",
   "metadata": {},
   "source": [
    "## 002: 闇の食塩水"
   ]
  },
  {
   "cell_type": "markdown",
   "metadata": {},
   "source": [
    "coming soon!"
   ]
  },
  {
   "cell_type": "code",
   "execution_count": null,
   "metadata": {
    "collapsed": true
   },
   "outputs": [],
   "source": []
  }
 ],
 "metadata": {
  "kernelspec": {
   "display_name": "Python 3",
   "language": "python",
   "name": "python3"
  },
  "language_info": {
   "codemirror_mode": {
    "name": "ipython",
    "version": 3
   },
   "file_extension": ".py",
   "mimetype": "text/x-python",
   "name": "python",
   "nbconvert_exporter": "python",
   "pygments_lexer": "ipython3",
   "version": "3.4.4"
  }
 },
 "nbformat": 4,
 "nbformat_minor": 0
}
