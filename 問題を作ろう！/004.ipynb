{
 "cells": [
  {
   "cell_type": "markdown",
   "metadata": {},
   "source": [
    "# 004: 放物線と戯れよう"
   ]
  },
  {
   "cell_type": "code",
   "execution_count": 1,
   "metadata": {
    "collapsed": true
   },
   "outputs": [],
   "source": [
    "%matplotlib inline"
   ]
  },
  {
   "cell_type": "code",
   "execution_count": 91,
   "metadata": {
    "collapsed": false
   },
   "outputs": [],
   "source": [
    "from sympy import *\n",
    "init_printing()\n",
    "from sympy.plotting.plot import Plot\n",
    "import matplotlib"
   ]
  },
  {
   "cell_type": "markdown",
   "metadata": {},
   "source": [
    "ある放物線と、ある原点を通る直線$l$との交点のうち、原点でない方を$P$とし、$P$を通り放物線と接する直線を$m$とする。直線$l$と直線$m$の間の角度が$30$度である時、$l$の傾きとして考えられるものを全て答えよ。"
   ]
  },
  {
   "cell_type": "markdown",
   "metadata": {},
   "source": [
    "まず放物線の比例定数を$a$と置く。それから直線$l$の比例定数を$b$と置く。すると、放物線の式は、"
   ]
  },
  {
   "cell_type": "code",
   "execution_count": 106,
   "metadata": {
    "collapsed": false
   },
   "outputs": [
    {
     "data": {
      "image/png": "[encoded data removed]",
      "text/latex": [
       "$$y = a x^{2}$$"
      ],
      "text/plain": [
       "       2\n",
       "y = a⋅x "
      ]
     },
     "execution_count": 106,
     "metadata": {},
     "output_type": "execute_result"
    }
   ],
   "source": [
    "from sympy.abc import a, b, x, y\n",
    "parabola = a * x * x\n",
    "eq1 = Eq(y, parabola)\n",
    "eq1"
   ]
  },
  {
   "cell_type": "markdown",
   "metadata": {},
   "source": [
    "直線$l$の式は、"
   ]
  },
  {
   "cell_type": "code",
   "execution_count": 107,
   "metadata": {
    "collapsed": false
   },
   "outputs": [
    {
     "data": {
      "image/png": "[encoded data removed]",
      "text/latex": [
       "$$y = b x$$"
      ],
      "text/plain": [
       "y = b⋅x"
      ]
     },
     "execution_count": 107,
     "metadata": {},
     "output_type": "execute_result"
    }
   ],
   "source": [
    "l = b * x\n",
    "eq2 = Eq(y, l)\n",
    "eq2"
   ]
  },
  {
   "cell_type": "markdown",
   "metadata": {},
   "source": [
    "と表せる。よって、Pのx座標は、"
   ]
  },
  {
   "cell_type": "code",
   "execution_count": 113,
   "metadata": {
    "collapsed": false
   },
   "outputs": [
    {
     "data": {
      "image/png": "[encoded data removed]",
      "text/latex": [
       "$$\\left [ \\left ( 0\\right ), \\quad \\left ( \\frac{b}{a}\\right )\\right ]$$"
      ],
      "text/plain": [
       "⎡      ⎛b ⎞⎤\n",
       "⎢(0,), ⎜─,⎟⎥\n",
       "⎣      ⎝a ⎠⎦"
      ]
     },
     "execution_count": 113,
     "metadata": {},
     "output_type": "execute_result"
    }
   ],
   "source": [
    "solve([Eq(parabola, l)], x)"
   ]
  },
  {
   "cell_type": "markdown",
   "metadata": {},
   "source": [
    "となるが、Pは原点でないので、Pのx座標は、"
   ]
  },
  {
   "cell_type": "code",
   "execution_count": 120,
   "metadata": {
    "collapsed": false
   },
   "outputs": [
    {
     "data": {
      "image/png": "[encoded data removed]",
      "text/latex": [
       "$$\\frac{b}{a}$$"
      ],
      "text/plain": [
       "b\n",
       "─\n",
       "a"
      ]
     },
     "execution_count": 120,
     "metadata": {},
     "output_type": "execute_result"
    }
   ],
   "source": [
    "Px = solve([Eq(parabola, l)], x)[1][0]\n",
    "Px"
   ]
  },
  {
   "cell_type": "markdown",
   "metadata": {},
   "source": [
    "である。次に、Pを通り放物線と接する直線の傾きは、放物線を微分したものにこれを代入すれば良いので、"
   ]
  },
  {
   "cell_type": "code",
   "execution_count": 122,
   "metadata": {
    "collapsed": false
   },
   "outputs": [
    {
     "data": {
      "image/png": "[encoded data removed]",
      "text/latex": [
       "$$2 b$$"
      ],
      "text/plain": [
       "2⋅b"
      ]
     },
     "execution_count": 122,
     "metadata": {},
     "output_type": "execute_result"
    }
   ],
   "source": [
    "slope_m = diff(parabola, x).subs(x, Px)\n",
    "slope_m"
   ]
  },
  {
   "cell_type": "markdown",
   "metadata": {},
   "source": [
    "となる。\n",
    "\n",
    "また、$l$と$m$の間の角度は、傾きbの直線と傾き2bの直線との間の角度と等しいので、"
   ]
  },
  {
   "cell_type": "code",
   "execution_count": 128,
   "metadata": {
    "collapsed": false
   },
   "outputs": [
    {
     "data": {
      "image/png": "[encoded data removed]",
      "text/latex": [
       "$$\\frac{180}{\\pi} \\operatorname{acos}{\\left (\\frac{2 b^{2} + 1}{\\sqrt{b^{2} + 1} \\sqrt{4 b^{2} + 1}} \\right )}$$"
      ],
      "text/plain": [
       "        ⎛            2            ⎞\n",
       "        ⎜         2⋅b  + 1        ⎟\n",
       "180⋅acos⎜─────────────────────────⎟\n",
       "        ⎜   ________    __________⎟\n",
       "        ⎜  ╱  2        ╱    2     ⎟\n",
       "        ⎝╲╱  b  + 1 ⋅╲╱  4⋅b  + 1 ⎠\n",
       "───────────────────────────────────\n",
       "                 π                 "
      ]
     },
     "execution_count": 128,
     "metadata": {},
     "output_type": "execute_result"
    }
   ],
   "source": [
    "rad_between = Line(Point2D(0,0), Point2D(1,b)).angle_between(Line(Point2D(0,0), Point2D(1,2*b)))\n",
    "deg_between = rad_between * 180 / pi\n",
    "deg_between"
   ]
  },
  {
   "cell_type": "markdown",
   "metadata": {},
   "source": [
    "と表せる。これが30度ということなので、"
   ]
  },
  {
   "cell_type": "code",
   "execution_count": 130,
   "metadata": {
    "collapsed": false
   },
   "outputs": [
    {
     "data": {
      "image/png": "[encoded data removed]",
      "text/latex": [
       "$$\\frac{180}{\\pi} \\operatorname{acos}{\\left (\\frac{2 b^{2} + 1}{\\sqrt{b^{2} + 1} \\sqrt{4 b^{2} + 1}} \\right )} = 30$$"
      ],
      "text/plain": [
       "        ⎛            2            ⎞     \n",
       "        ⎜         2⋅b  + 1        ⎟     \n",
       "180⋅acos⎜─────────────────────────⎟     \n",
       "        ⎜   ________    __________⎟     \n",
       "        ⎜  ╱  2        ╱    2     ⎟     \n",
       "        ⎝╲╱  b  + 1 ⋅╲╱  4⋅b  + 1 ⎠     \n",
       "─────────────────────────────────── = 30\n",
       "                 π                      "
      ]
     },
     "execution_count": 130,
     "metadata": {},
     "output_type": "execute_result"
    }
   ],
   "source": [
    "eq3 = Eq(deg_between, 30)\n",
    "eq3"
   ]
  },
  {
   "cell_type": "markdown",
   "metadata": {},
   "source": [
    "これを解くと、"
   ]
  },
  {
   "cell_type": "code",
   "execution_count": 133,
   "metadata": {
    "collapsed": false
   },
   "outputs": [
    {
     "data": {
      "image/png": "[encoded data removed]",
      "text/latex": [
       "$$\\left [ - \\frac{1}{4} \\sqrt{-2 - 2 \\sqrt{15} i}, \\quad \\frac{1}{4} \\sqrt{-2 - 2 \\sqrt{15} i}, \\quad - \\frac{1}{4} \\sqrt{-2 + 2 \\sqrt{15} i}, \\quad \\frac{1}{4} \\sqrt{-2 + 2 \\sqrt{15} i}\\right ]$$"
      ],
      "text/plain": [
       "⎡   ______________     ______________     ______________     ______________⎤\n",
       "⎢-╲╱ -2 - 2⋅√15⋅ⅈ    ╲╱ -2 - 2⋅√15⋅ⅈ   -╲╱ -2 + 2⋅√15⋅ⅈ    ╲╱ -2 + 2⋅√15⋅ⅈ ⎥\n",
       "⎢──────────────────, ────────────────, ──────────────────, ────────────────⎥\n",
       "⎣        4                  4                  4                  4        ⎦"
      ]
     },
     "execution_count": 133,
     "metadata": {},
     "output_type": "execute_result"
    }
   ],
   "source": [
    "solve(eq3)"
   ]
  },
  {
   "cell_type": "markdown",
   "metadata": {},
   "source": [
    "また虚数解か！！！！！\n",
    "\n",
    "ちょっと小さくしよう。"
   ]
  },
  {
   "cell_type": "code",
   "execution_count": 149,
   "metadata": {
    "collapsed": false
   },
   "outputs": [
    {
     "data": {
      "image/png": "[encoded data removed]",
      "text/latex": [
       "$$\\left [ - \\frac{1}{4} \\sqrt{-10 + \\frac{2}{\\left(- \\frac{\\sqrt{2}}{4} + \\frac{\\sqrt{6}}{4}\\right)^{2}} \\left(\\frac{\\sqrt{2}}{4} + \\frac{\\sqrt{6}}{4}\\right) \\sqrt{- 9 \\left(- \\frac{\\sqrt{2}}{4} + \\frac{\\sqrt{6}}{4}\\right)^{2} + 1} + \\frac{2}{\\left(- \\frac{\\sqrt{2}}{4} + \\frac{\\sqrt{6}}{4}\\right)^{2}}}, \\quad \\frac{1}{4} \\sqrt{-10 + \\frac{2}{\\left(- \\frac{\\sqrt{2}}{4} + \\frac{\\sqrt{6}}{4}\\right)^{2}} \\left(\\frac{\\sqrt{2}}{4} + \\frac{\\sqrt{6}}{4}\\right) \\sqrt{- 9 \\left(- \\frac{\\sqrt{2}}{4} + \\frac{\\sqrt{6}}{4}\\right)^{2} + 1} + \\frac{2}{\\left(- \\frac{\\sqrt{2}}{4} + \\frac{\\sqrt{6}}{4}\\right)^{2}}}, \\quad - \\frac{1}{4} \\sqrt{- \\frac{2}{\\left(- \\frac{\\sqrt{2}}{4} + \\frac{\\sqrt{6}}{4}\\right)^{2}} \\left(\\frac{\\sqrt{2}}{4} + \\frac{\\sqrt{6}}{4}\\right) \\sqrt{- 9 \\left(- \\frac{\\sqrt{2}}{4} + \\frac{\\sqrt{6}}{4}\\right)^{2} + 1} - 10 + \\frac{2}{\\left(- \\frac{\\sqrt{2}}{4} + \\frac{\\sqrt{6}}{4}\\right)^{2}}}, \\quad \\frac{1}{4} \\sqrt{- \\frac{2}{\\left(- \\frac{\\sqrt{2}}{4} + \\frac{\\sqrt{6}}{4}\\right)^{2}} \\left(\\frac{\\sqrt{2}}{4} + \\frac{\\sqrt{6}}{4}\\right) \\sqrt{- 9 \\left(- \\frac{\\sqrt{2}}{4} + \\frac{\\sqrt{6}}{4}\\right)^{2} + 1} - 10 + \\frac{2}{\\left(- \\frac{\\sqrt{2}}{4} + \\frac{\\sqrt{6}}{4}\\right)^{2}}}\\right ]$$"
      ],
      "text/plain": [
       "⎡            ______________________________________________________________   \n",
       "⎢           ╱                        ______________________                   \n",
       "⎢          ╱                        ╱                2                        \n",
       "⎢         ╱           ⎛√2   √6⎞    ╱      ⎛  √2   √6⎞                         \n",
       "⎢        ╱          2⋅⎜── + ──⎟⋅  ╱   - 9⋅⎜- ── + ──⎟  + 1                    \n",
       "⎢       ╱             ⎝4    4 ⎠ ╲╱        ⎝  4    4 ⎠              2          \n",
       "⎢-     ╱      -10 + ─────────────────────────────────────── + ────────────    \n",
       "⎢     ╱                                      2                           2    \n",
       "⎢    ╱                            ⎛  √2   √6⎞                 ⎛  √2   √6⎞     \n",
       "⎢   ╱                             ⎜- ── + ──⎟                 ⎜- ── + ──⎟     \n",
       "⎢ ╲╱                              ⎝  4    4 ⎠                 ⎝  4    4 ⎠     \n",
       "⎢───────────────────────────────────────────────────────────────────────────, \n",
       "⎣                                     4                                       \n",
       "\n",
       "           ______________________________________________________________     \n",
       "          ╱                        ______________________                     \n",
       "         ╱                        ╱                2                          \n",
       "        ╱           ⎛√2   √6⎞    ╱      ⎛  √2   √6⎞                           \n",
       "       ╱          2⋅⎜── + ──⎟⋅  ╱   - 9⋅⎜- ── + ──⎟  + 1                      \n",
       "      ╱             ⎝4    4 ⎠ ╲╱        ⎝  4    4 ⎠              2            \n",
       "     ╱      -10 + ─────────────────────────────────────── + ────────────   -  \n",
       "    ╱                                      2                           2      \n",
       "   ╱                            ⎛  √2   √6⎞                 ⎛  √2   √6⎞       \n",
       "  ╱                             ⎜- ── + ──⎟                 ⎜- ── + ──⎟       \n",
       "╲╱                              ⎝  4    4 ⎠                 ⎝  4    4 ⎠     ╲╱\n",
       "─────────────────────────────────────────────────────────────────────────, ───\n",
       "                                    4                                         \n",
       "\n",
       "         _______________________________________________________________      \n",
       "        ╱                    ______________________                           \n",
       "       ╱                    ╱                2                                \n",
       "      ╱       ⎛√2   √6⎞    ╱      ⎛  √2   √6⎞                                 \n",
       "     ╱      2⋅⎜── + ──⎟⋅  ╱   - 9⋅⎜- ── + ──⎟  + 1                            \n",
       "    ╱         ⎝4    4 ⎠ ╲╱        ⎝  4    4 ⎠                   2             \n",
       "   ╱      - ─────────────────────────────────────── - 10 + ────────────       \n",
       "  ╱                                  2                                2       \n",
       " ╱                        ⎛  √2   √6⎞                      ⎛  √2   √6⎞        \n",
       "╱                         ⎜- ── + ──⎟                      ⎜- ── + ──⎟       ╱\n",
       "                          ⎝  4    4 ⎠                      ⎝  4    4 ⎠     ╲╱ \n",
       "─────────────────────────────────────────────────────────────────────────, ───\n",
       "                                  4                                           \n",
       "\n",
       "        _______________________________________________________________⎤\n",
       "       ╱                    ______________________                     ⎥\n",
       "      ╱                    ╱                2                          ⎥\n",
       "     ╱       ⎛√2   √6⎞    ╱      ⎛  √2   √6⎞                           ⎥\n",
       "    ╱      2⋅⎜── + ──⎟⋅  ╱   - 9⋅⎜- ── + ──⎟  + 1                      ⎥\n",
       "   ╱         ⎝4    4 ⎠ ╲╱        ⎝  4    4 ⎠                   2       ⎥\n",
       "  ╱      - ─────────────────────────────────────── - 10 + ──────────── ⎥\n",
       " ╱                                  2                                2 ⎥\n",
       "╱                        ⎛  √2   √6⎞                      ⎛  √2   √6⎞  ⎥\n",
       "                         ⎜- ── + ──⎟                      ⎜- ── + ──⎟  ⎥\n",
       "                         ⎝  4    4 ⎠                      ⎝  4    4 ⎠  ⎥\n",
       "───────────────────────────────────────────────────────────────────────⎥\n",
       "                                 4                                     ⎦"
      ]
     },
     "execution_count": 149,
     "metadata": {},
     "output_type": "execute_result"
    }
   ],
   "source": [
    "sol = solve(Eq(deg_between, 15))\n",
    "sol"
   ]
  },
  {
   "cell_type": "markdown",
   "metadata": {},
   "source": [
    "お。行けた！！"
   ]
  },
  {
   "cell_type": "code",
   "execution_count": 150,
   "metadata": {
    "collapsed": false
   },
   "outputs": [
    {
     "data": {
      "image/png": "[encoded data removed]",
      "text/latex": [
       "$$\\left [ - \\frac{1}{2} - \\frac{\\sqrt{3}}{4} - \\frac{\\sqrt{6}}{8} \\sqrt{-14 + 9 \\sqrt{3}} - \\frac{\\sqrt{2}}{8} \\sqrt{-14 + 9 \\sqrt{3}}, \\quad \\frac{\\sqrt{2}}{8} \\sqrt{-14 + 9 \\sqrt{3}} + \\frac{\\sqrt{6}}{8} \\sqrt{-14 + 9 \\sqrt{3}} + \\frac{\\sqrt{3}}{4} + \\frac{1}{2}, \\quad - \\frac{1}{2} - \\frac{\\sqrt{3}}{4} + \\frac{\\sqrt{2}}{8} \\sqrt{-14 + 9 \\sqrt{3}} + \\frac{\\sqrt{6}}{8} \\sqrt{-14 + 9 \\sqrt{3}}, \\quad - \\frac{\\sqrt{6}}{8} \\sqrt{-14 + 9 \\sqrt{3}} - \\frac{\\sqrt{2}}{8} \\sqrt{-14 + 9 \\sqrt{3}} + \\frac{\\sqrt{3}}{4} + \\frac{1}{2}\\right ]$$"
      ],
      "text/plain": [
       "⎡                ____________        ____________       ____________        __\n",
       "⎢  1   √3   √6⋅╲╱ -14 + 9⋅√3    √2⋅╲╱ -14 + 9⋅√3   √2⋅╲╱ -14 + 9⋅√3    √6⋅╲╱ -\n",
       "⎢- ─ - ── - ───────────────── - ─────────────────, ───────────────── + ───────\n",
       "⎣  2   4            8                   8                  8                  \n",
       "\n",
       "__________                           ____________        ____________         \n",
       "14 + 9⋅√3    √3   1    1   √3   √2⋅╲╱ -14 + 9⋅√3    √6⋅╲╱ -14 + 9⋅√3     √6⋅╲╱\n",
       "────────── + ── + ─, - ─ - ── + ───────────────── + ─────────────────, - ─────\n",
       " 8           4    2    2   4            8                   8                 \n",
       "\n",
       "____________        ____________         ⎤\n",
       " -14 + 9⋅√3    √2⋅╲╱ -14 + 9⋅√3    √3   1⎥\n",
       "──────────── - ───────────────── + ── + ─⎥\n",
       "   8                   8           4    2⎦"
      ]
     },
     "execution_count": 150,
     "metadata": {},
     "output_type": "execute_result"
    }
   ],
   "source": [
    "sol_simplified = list(map(lambda x: expand(sqrtdenest(simplify(x))), sol))\n",
    "sol_simplified"
   ]
  },
  {
   "cell_type": "markdown",
   "metadata": {},
   "source": [
    "でたぜ。"
   ]
  },
  {
   "cell_type": "markdown",
   "metadata": {},
   "source": [
    "最終的な問題文：\n",
    "\n",
    "- - -\n",
    "\n",
    "ある放物線と、ある原点を通る直線$l$との交点のうち、原点でない方を$P$とし、$P$を通り放物線と接する直線を$m$とする。直線$l$と直線$m$の間の角度が$15$度である時、$l$の傾きとして考えられるものを全て答えよ。\n",
    "\n",
    "- - -\n",
    "\n",
    "答え： $- \\frac{1}{2} - \\frac{\\sqrt{3}}{4} - \\frac{\\sqrt{6}}{8} \\sqrt{-14 + 9 \\sqrt{3}} - \\frac{\\sqrt{2}}{8} \\sqrt{-14 + 9 \\sqrt{3}}, \\quad \\frac{\\sqrt{2}}{8} \\sqrt{-14 + 9 \\sqrt{3}} + \\frac{\\sqrt{6}}{8} \\sqrt{-14 + 9 \\sqrt{3}} + \\frac{\\sqrt{3}}{4} + \\frac{1}{2}, \\quad - \\frac{1}{2} - \\frac{\\sqrt{3}}{4} + \\frac{\\sqrt{2}}{8} \\sqrt{-14 + 9 \\sqrt{3}} + \\frac{\\sqrt{6}}{8} \\sqrt{-14 + 9 \\sqrt{3}}, \\quad - \\frac{\\sqrt{6}}{8} \\sqrt{-14 + 9 \\sqrt{3}} - \\frac{\\sqrt{2}}{8} \\sqrt{-14 + 9 \\sqrt{3}} + \\frac{\\sqrt{3}}{4} + \\frac{1}{2}$\n",
    "\n",
    "- - -"
   ]
  },
  {
   "cell_type": "code",
   "execution_count": null,
   "metadata": {
    "collapsed": true
   },
   "outputs": [],
   "source": []
  }
 ],
 "metadata": {
  "kernelspec": {
   "display_name": "Python 3",
   "language": "python",
   "name": "python3"
  },
  "language_info": {
   "codemirror_mode": {
    "name": "ipython",
    "version": 3
   },
   "file_extension": ".py",
   "mimetype": "text/x-python",
   "name": "python",
   "nbconvert_exporter": "python",
   "pygments_lexer": "ipython3",
   "version": "3.4.5"
  }
 },
 "nbformat": 4,
 "nbformat_minor": 0
}
