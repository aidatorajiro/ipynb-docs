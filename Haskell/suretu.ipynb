{
 "cells": [
  {
   "cell_type": "code",
   "execution_count": null,
   "metadata": {
    "collapsed": true
   },
   "outputs": [],
   "source": []
  },
  {
   "cell_type": "markdown",
   "metadata": {},
   "source": [
    "```haskell\n",
    "import Data.Ratio\n",
    "import Control.Applicative\n",
    "import System.Environment\n",
    "\n",
    "arr :: Rational -> Rational -> Rational -> Rational -> Integer -> (Rational, Rational)\n",
    "arr a1 a2 p q n =\n",
    "  let d :: Rational\n",
    "      d = p * p + 4 * q\n",
    "      \n",
    "      mul :: (Rational, Rational) -> (Rational, Rational) -> (Rational, Rational)\n",
    "      mul (w, x) (y, z) = (w * y + x * z * d, w * z + x * y)\n",
    "\n",
    "      add :: (Rational, Rational) -> (Rational, Rational) -> (Rational, Rational)\n",
    "      add (w, x) (y, z) = (w + y, x + z)\n",
    "\n",
    "      sub :: (Rational, Rational) -> (Rational, Rational) -> (Rational, Rational)\n",
    "      sub (w, x) (y, z) = (w - y, x - z)\n",
    "      \n",
    "      square :: (Rational, Rational) -> (Rational, Rational)\n",
    "      square x = mul x x\n",
    "\n",
    "      fastPow :: (Rational, Rational) -> Integer -> (Rational, Rational)\n",
    "      fastPow _    0 = (1, 0)\n",
    "      fastPow base 1 = base\n",
    "      fastPow base pow | even pow = square (fastPow base (div pow 2))\n",
    "                        | odd  pow = mul (square (fastPow base (div (pow-1) 2))) base\n",
    "      \n",
    "      alpha :: (Rational, Rational)\n",
    "      alpha = mul (add (p, 0) (0, 1)) (1 % 2, 0)\n",
    "\n",
    "      beta :: (Rational, Rational)\n",
    "      beta = mul (sub (p, 0) (0, 1)) (1 % 2, 0)\n",
    "   in mul (\n",
    "        sub (\n",
    "          mul (\n",
    "            sub (a2, 0) (mul beta (a1, 0))\n",
    "          )\n",
    "          (fastPow alpha ＄ n - 1)\n",
    "        )\n",
    "        (\n",
    "          mul (\n",
    "            sub (a2, 0) (mul alpha (a1, 0))\n",
    "          )\n",
    "          (fastPow beta ＄ n - 1)\n",
    "        )\n",
    "      )\n",
    "      (0, denominator d % numerator d)\n",
    "\n",
    "main :: IO ()\n",
    "main = do\n",
    "  [a1, a2, p, q, n] <- getArgs\n",
    "  print ＄ numerator ＄ fst ＄ arr (s a1) (s a2) (s p) (s q) (read n)\n",
    "  where s = fromInteger . read\n",
    "```\n",
    "\n",
    "こんな感じのHaskellプログラムを書いた。  \n",
    "1 1 1 1 nと入力すると、n番目のフィボナッチ数が出力される。  \n",
    "三項間漸化式の一般項から計算している。  \n",
    "ベンチマークしてみた。\n",
    "\n",
    "| 入力 | real | user | sys |\n",
    "|:-----------:|:------------:|:------------:|:------------:|\n",
    "| 1 1 1 1 100000 | 0m0.021s | 0m0.007s | 0m0.007s |\n",
    "| 1 1 1 1 1000000 | 0m0.068s | 0m0.053s | 0m0.008s |\n",
    "| 1 1 1 1 5000000 | 0m0.386s | 0m0.359s | 0m0.018s |\n",
    "| 1 1 1 1 10000000 | 0m0.795s | 0m0.761s | 0m0.026s |\n",
    "| 1 1 1 1 15000000 | 0m1.369s | 0m1.309s | 0m0.047s |\n",
    "| 1 1 1 1 20000000 | 0m1.870s | 0m1.789s | 0m0.056s |\n",
    "| 1 1 1 1 30000000 | 0m2.992s | 0m2.872s | 0m0.093s |\n",
    "| 1 1 1 1 100000000 | 0m13.418s | 0m12.587s | 0m0.527s |"
   ]
  },
  {
   "cell_type": "code",
   "execution_count": 70,
   "metadata": {
    "collapsed": false
   },
   "outputs": [
    {
     "data": {
      "image/png": "[encoded data removed]",
      "text/plain": [
       "<matplotlib.figure.Figure at 0x11757ee80>"
      ]
     },
     "metadata": {},
     "output_type": "display_data"
    }
   ],
   "source": [
    "import matplotlib.pyplot as plt\n",
    "import numpy as np\n",
    "\n",
    "n = [100000,\n",
    "1000000,\n",
    "5000000,\n",
    "10000000,\n",
    "15000000,\n",
    "20000000,\n",
    "30000000,\n",
    "100000000]\n",
    "\n",
    "nn = np.linspace(0, 100000000, 100)\n",
    "\n",
    "real = [0.021,\n",
    "0.068,\n",
    "0.386,\n",
    "0.795,\n",
    "1.369,\n",
    "1.870,\n",
    "2.992,\n",
    "13.418]\n",
    "\n",
    "fr = np.poly1d(np.polyfit(n, real, 1))\n",
    "intr = fr(nn)\n",
    "\n",
    "user = [0.007,\n",
    "0.053,\n",
    "0.359,\n",
    "0.761,\n",
    "1.309,\n",
    "1.789,\n",
    "2.872,\n",
    "12.587]\n",
    "\n",
    "fu = np.poly1d(np.polyfit(n, user, 1))\n",
    "intu = fu(nn)\n",
    "\n",
    "sys = [0.007,\n",
    "0.008,\n",
    "0.018,\n",
    "0.026,\n",
    "0.047,\n",
    "0.056,\n",
    "0.093,\n",
    "0.527]\n",
    "\n",
    "fs = np.poly1d(np.polyfit(n, sys, 1))\n",
    "ints = fs(nn)\n",
    "\n",
    "plt.cla()\n",
    "plt.clf()\n",
    "\n",
    "plt.plot(n, real, 'ro', label=\"real\")\n",
    "plt.plot(nn, intr, 'r', label=\"real\")\n",
    "plt.plot(n, user, 'bo', label=\"user\")\n",
    "plt.plot(nn, intu, 'b', label=\"user\")\n",
    "plt.plot(n, sys, 'yo', label=\"sys\")\n",
    "plt.plot(nn, ints, 'y', label=\"sys\")\n",
    "plt.legend()\n",
    "\n",
    "plt.show()"
   ]
  },
  {
   "cell_type": "markdown",
   "metadata": {},
   "source": [
    "各点は実際の計測値、実線は最小二乗法で一次式に近似したものである。\n",
    "\n",
    "試しにfr, fu, fsに150000000を代入してみて、1 1 1 1 150000000を入力した時の所要時間を予測してみる。"
   ]
  },
  {
   "cell_type": "code",
   "execution_count": 75,
   "metadata": {
    "collapsed": false
   },
   "outputs": [
    {
     "data": {
      "text/plain": [
       "19.917730957690232"
      ]
     },
     "execution_count": 75,
     "metadata": {},
     "output_type": "execute_result"
    }
   ],
   "source": [
    "fr(150000000)"
   ]
  },
  {
   "cell_type": "code",
   "execution_count": 76,
   "metadata": {
    "collapsed": false
   },
   "outputs": [
    {
     "data": {
      "text/plain": [
       "18.708190203186941"
      ]
     },
     "execution_count": 76,
     "metadata": {},
     "output_type": "execute_result"
    }
   ],
   "source": [
    "fu(150000000)"
   ]
  },
  {
   "cell_type": "code",
   "execution_count": 77,
   "metadata": {
    "collapsed": false
   },
   "outputs": [
    {
     "data": {
      "text/plain": [
       "0.77191063048752651"
      ]
     },
     "execution_count": 77,
     "metadata": {},
     "output_type": "execute_result"
    }
   ],
   "source": [
    "fs(150000000)"
   ]
  },
  {
   "cell_type": "markdown",
   "metadata": {},
   "source": [
    "実際に走らせてみると、次のようになった。\n",
    "```bash\n",
    "$ time ./suretu_advanced 1 1 1 1 150000000 > /dev/null\n",
    "\n",
    "real\t0m19.194s\n",
    "user\t0m18.423s\n",
    "sys\t0m0.672s\n",
    "```\n",
    "おお、結構当たっている。。。。どころか予測値よりも速い。。。。すげえ  \n",
    "\n",
    "\n",
    "再帰、リストとの比較もやってみる。\n",
    "\n",
    "- 再帰  \n",
    "コードは次の通り。\n",
    "```haskell\n",
    "```"
   ]
  },
  {
   "cell_type": "code",
   "execution_count": null,
   "metadata": {
    "collapsed": true
   },
   "outputs": [],
   "source": []
  }
 ],
 "metadata": {
  "kernelspec": {
   "display_name": "Python 3",
   "language": "python",
   "name": "python3"
  },
  "language_info": {
   "codemirror_mode": {
    "name": "ipython",
    "version": 3
   },
   "file_extension": ".py",
   "mimetype": "text/x-python",
   "name": "python",
   "nbconvert_exporter": "python",
   "pygments_lexer": "ipython3",
   "version": "3.6.0"
  }
 },
 "nbformat": 4,
 "nbformat_minor": 2
}
