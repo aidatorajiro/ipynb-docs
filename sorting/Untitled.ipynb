{
 "cells": [
  {
   "cell_type": "markdown",
   "metadata": {},
   "source": [
    "# そーてぃんぐ (Sorting)\n",
    "\n",
    "順序関数`lambda a, b : random() < 0.5`を用いて配列`[1, 2, 3, ..., n]`をQuick Sortする。"
   ]
  },
  {
   "cell_type": "code",
   "execution_count": 18,
   "metadata": {},
   "outputs": [
    {
     "name": "stdout",
     "output_type": "stream",
     "text": [
      "1 < 10 ? True\n",
      "2 < 10 ? False\n",
      "3 < 10 ? True\n",
      "4 < 10 ? False\n",
      "5 < 10 ? True\n",
      "6 < 10 ? True\n",
      "7 < 10 ? False\n",
      "8 < 10 ? True\n",
      "9 < 10 ? False\n",
      "1 < 8 ? True\n",
      "3 < 8 ? False\n",
      "5 < 8 ? False\n",
      "6 < 8 ? True\n",
      "1 < 6 ? True\n",
      "3 < 5 ? True\n",
      "2 < 9 ? True\n",
      "4 < 9 ? False\n",
      "7 < 9 ? True\n",
      "2 < 7 ? True\n",
      "[1, 6, 8, 3, 5, 10, 2, 7, 9, 4]\n",
      "# of calls: 19\n"
     ]
    }
   ],
   "source": [
    "from random import random\n",
    "\n",
    "count = 0\n",
    "\n",
    "def f(a, b):\n",
    "    global count\n",
    "    rnd = random() < 0.5\n",
    "    print(\"%s < %s ? %s\" % (a, b, rnd))\n",
    "    count += 1\n",
    "    return rnd\n",
    "\n",
    "def sort(array, cmp):\n",
    "    less = []\n",
    "    greater = []\n",
    "\n",
    "    if len(array) > 1:\n",
    "        pivot = array.pop()\n",
    "        for x in array:\n",
    "            if cmp(x, pivot):\n",
    "                less.append(x)\n",
    "            else:\n",
    "                greater.append(x)\n",
    "        return sort(less, cmp)+[pivot]+sort(greater, cmp)\n",
    "    else:\n",
    "        return array\n",
    "\n",
    "print(sort([1, 2, 3, 4, 5, 6, 7, 8, 9, 10], f))\n",
    "\n",
    "print(\"# of calls: %s\" % count)"
   ]
  },
  {
   "cell_type": "markdown",
   "metadata": {},
   "source": [
    "感覚的には,`n=10`の時だいたい平均20くらい。\n",
    "\n",
    "`# of calls`の確率分布を調べよう！"
   ]
  },
  {
   "cell_type": "code",
   "execution_count": 19,
   "metadata": {},
   "outputs": [],
   "source": [
    "\"\"\"\n",
    "(dictionary version)\n",
    "\n",
    "distribution_memo = {}\n",
    "\n",
    "def mul_dist_by(dist, amount):\n",
    "    for k in dist.keys():\n",
    "        dist[k] = dist[k]*amount\n",
    "\n",
    "def update_dist(dist_src, dist):\n",
    "    for k in dist.keys():\n",
    "        if k in dist_src:\n",
    "            dist_src[k] = dist_src[k] + dist[k]\n",
    "        else:\n",
    "            dist_src[k] = dist[k]\n",
    "\n",
    "def combination(n, m):\n",
    "    return math.factorial(n)/(math.factorial(m)*math.factorial(n - m))\n",
    "\n",
    "def distribution(n):\n",
    "    global distribution_memo\n",
    "    \n",
    "    if n in distribution_memo:\n",
    "        return distribution_memo[n].copy()\n",
    "    \n",
    "    dist = {}\n",
    "    \n",
    "    if n > 1:\n",
    "        # The number of \"less\" elements (less_size) is in range [0, n-1].\n",
    "        # The probability distribution for given less_size is (n-1)C(less_size)*distribution(less_size) + (n-1)C(greater_size)*distribution(greater_size), \n",
    "        #  where greater_size = n - 1 - less_size.\n",
    "        for less_size in range(0, n):\n",
    "            greater_size = n - 1 - less_size\n",
    "            \n",
    "            dist_less = distribution(less_size)\n",
    "            mul_dist_by(dist_less, combination(n - 1, less_size))\n",
    "            \n",
    "            dist_greater = distribution(greater_size)\n",
    "            mul_dist_by(dist_greater, combination(n - 1, greater_size))\n",
    "            \n",
    "            update_dist(dist, dist_less)\n",
    "            update_dist(dist, dist_greater)\n",
    "    else if n = 1:\n",
    "        dist = {1.0: 1.0}\n",
    "    else:\n",
    "        raise Exception(\"Undefined for given value\");\n",
    "    \n",
    "    distribution_memo[n] = dist.copy()\n",
    "    return dist\n",
    "\n",
    "print(count_distribution(10))\n",
    "\n",
    "print(\"distribution of # of calls: %s\" % distribution)\n",
    "\"\"\"\n",
    "\n",
    "None"
   ]
  },
  {
   "cell_type": "code",
   "execution_count": 78,
   "metadata": {},
   "outputs": [
    {
     "name": "stdout",
     "output_type": "stream",
     "text": [
      "distribution of # of calls\n",
      "[0.00000000e+00 0.00000000e+00 0.00000000e+00 0.00000000e+00\n",
      " 0.00000000e+00 0.00000000e+00 0.00000000e+00 0.00000000e+00\n",
      " 0.00000000e+00 0.00000000e+00 0.00000000e+00 0.00000000e+00\n",
      " 0.00000000e+00 0.00000000e+00 0.00000000e+00 0.00000000e+00\n",
      " 0.00000000e+00 0.00000000e+00 0.00000000e+00 2.81982422e-01\n",
      " 2.82714844e-01 2.55981445e-01 8.90579224e-02 5.83305359e-02\n",
      " 1.57814026e-02 1.04188919e-02 2.49242783e-03 2.26020813e-03\n",
      " 5.52415848e-04 2.78353691e-04 8.17775726e-05 4.42862511e-05\n",
      " 1.36345625e-05 6.99609518e-06 1.18836761e-06 8.79168510e-07\n",
      " 2.34693289e-07 9.40635800e-08 2.37487257e-08 1.28056854e-08\n",
      " 1.97906047e-09 1.16415322e-09 2.32830644e-10 8.73114914e-11\n",
      " 1.45519152e-11 1.45519152e-11]\n"
     ]
    }
   ],
   "source": [
    "import numpy\n",
    "import math\n",
    "\n",
    "distribution_memo = [numpy.array([1.0]), numpy.array([1.0])]\n",
    "\n",
    "def combination(n, m):\n",
    "    return math.factorial(n)/(math.factorial(m)*math.factorial(n - m))\n",
    "\n",
    "def distribution(target):\n",
    "    global distribution_memo\n",
    "    \n",
    "    for n in range(len(distribution_memo), target + 1):\n",
    "        dist = numpy.array([0.0])\n",
    "\n",
    "        # The length of \"less\" (less_size) is in range [0, n - 1].\n",
    "        # The probability of less_size = n is (1/2**(n - 1))*combination(n - 1, less_size).\n",
    "        # For given less_size:\n",
    "        # - The length of \"greater\" (greater_size) is \"n - 1 - less_size\".\n",
    "        # - Let calls(x) represent the random variable of cmp calls of \"sort(x, cmp)\".\n",
    "        # - Then, # of calls is\n",
    "        #    calls(less) + calls(greater) + n - 1\n",
    "        # - Thus, the distribution of # of calls is\n",
    "        #    shift(conv(distribution(less_size), distribution(greater_size)), n - 1)\n",
    "        #   where\n",
    "        #    shift represents index shift for arrays, which is equivalent to adding some constant value to random variables.\n",
    "        #    conv represents convolution between arrays, which is equivalent to merging two distributions.\n",
    "        #    distribution(less_size/greater_size) represents the probability distribution of calls(less/greater).\n",
    "        for less_size in range(0, n):\n",
    "            # calculate length of \"greater\"\n",
    "            greater_size = n - 1 - less_size\n",
    "\n",
    "            # get branch distributions\n",
    "            dist_less = distribution_memo[less_size]\n",
    "            dist_greater = distribution_memo[greater_size]\n",
    "\n",
    "            # merge two distributions\n",
    "            conv = numpy.convolve(dist_less, dist_greater)\n",
    "\n",
    "            # calculate shifted distribution (incremented by n - 1)\n",
    "            conv.resize(conv.size + n - 1)\n",
    "            shifted = numpy.roll(conv, n - 1).copy()\n",
    "\n",
    "            # calculate scale for this distribution\n",
    "            scale = (1/2**(n - 1))*combination(n - 1, less_size)\n",
    "\n",
    "            # fit size\n",
    "            if shifted.size > dist.size:\n",
    "                dist.resize(shifted.size)\n",
    "            elif shifted.size < dist.size:\n",
    "                shifted.resize(dist.size)\n",
    "\n",
    "            # add to dist\n",
    "            dist += scale*shifted\n",
    "        distribution_memo.append(dist)\n",
    "    \n",
    "    return distribution_memo[target]\n",
    "\n",
    "print(\"distribution of # of calls\")\n",
    "print(distribution(10))"
   ]
  },
  {
   "cell_type": "code",
   "execution_count": 79,
   "metadata": {},
   "outputs": [
    {
     "data": {
      "text/plain": [
       "[<matplotlib.lines.Line2D at 0x11e71dc50>]"
      ]
     },
     "execution_count": 79,
     "metadata": {},
     "output_type": "execute_result"
    },
    {
     "data": {
      "image/png": "[encoded data removed]",
      "text/plain": [
       "<Figure size 432x288 with 1 Axes>"
      ]
     },
     "metadata": {
      "needs_background": "light"
     },
     "output_type": "display_data"
    }
   ],
   "source": [
    "from matplotlib import pyplot as plt\n",
    "\n",
    "plt.plot(distribution(5))"
   ]
  },
  {
   "cell_type": "code",
   "execution_count": 80,
   "metadata": {},
   "outputs": [
    {
     "data": {
      "text/plain": [
       "[<matplotlib.lines.Line2D at 0x11e77c7b8>]"
      ]
     },
     "execution_count": 80,
     "metadata": {},
     "output_type": "execute_result"
    },
    {
     "data": {
      "image/png": "[encoded data removed]",
      "text/plain": [
       "<Figure size 432x288 with 1 Axes>"
      ]
     },
     "metadata": {
      "needs_background": "light"
     },
     "output_type": "display_data"
    }
   ],
   "source": [
    "plt.plot(distribution(10))"
   ]
  },
  {
   "cell_type": "code",
   "execution_count": 81,
   "metadata": {},
   "outputs": [
    {
     "data": {
      "text/plain": [
       "[<matplotlib.lines.Line2D at 0x11e88fd68>]"
      ]
     },
     "execution_count": 81,
     "metadata": {},
     "output_type": "execute_result"
    },
    {
     "data": {
      "image/png": "[encoded data removed]",
      "text/plain": [
       "<Figure size 432x288 with 1 Axes>"
      ]
     },
     "metadata": {
      "needs_background": "light"
     },
     "output_type": "display_data"
    }
   ],
   "source": [
    "plt.plot(distribution(20))"
   ]
  },
  {
   "cell_type": "code",
   "execution_count": 82,
   "metadata": {},
   "outputs": [
    {
     "data": {
      "text/plain": [
       "[<matplotlib.lines.Line2D at 0x11e2d4240>]"
      ]
     },
     "execution_count": 82,
     "metadata": {},
     "output_type": "execute_result"
    },
    {
     "data": {
      "image/png": "[encoded data removed]",
      "text/plain": [
       "<Figure size 432x288 with 1 Axes>"
      ]
     },
     "metadata": {
      "needs_background": "light"
     },
     "output_type": "display_data"
    }
   ],
   "source": [
    "plt.plot(distribution(30))"
   ]
  },
  {
   "cell_type": "code",
   "execution_count": 83,
   "metadata": {},
   "outputs": [
    {
     "data": {
      "text/plain": [
       "[<matplotlib.lines.Line2D at 0x11ea1e240>]"
      ]
     },
     "execution_count": 83,
     "metadata": {},
     "output_type": "execute_result"
    },
    {
     "data": {
      "image/png": "[encoded data removed]",
      "text/plain": [
       "<Figure size 432x288 with 1 Axes>"
      ]
     },
     "metadata": {
      "needs_background": "light"
     },
     "output_type": "display_data"
    }
   ],
   "source": [
    "plt.plot(distribution(100))"
   ]
  },
  {
   "cell_type": "code",
   "execution_count": 125,
   "metadata": {},
   "outputs": [
    {
     "data": {
      "text/plain": [
       "<matplotlib.legend.Legend at 0x11f3ddba8>"
      ]
     },
     "execution_count": 125,
     "metadata": {},
     "output_type": "execute_result"
    },
    {
     "data": {
      "image/png": "[encoded data removed]",
      "text/plain": [
       "<Figure size 432x288 with 1 Axes>"
      ]
     },
     "metadata": {
      "needs_background": "light"
     },
     "output_type": "display_data"
    }
   ],
   "source": [
    "plt.plot([distribution(k).argmax() for k in range(0, 10)], label=\"mode of # of calls\")\n",
    "plt.plot([(distribution(k)*numpy.linspace(0, distribution(k).size - 1, distribution(k).size)).sum() for k in range(0, 10)], label=\"expectation of # of calls\")\n",
    "plt.legend()"
   ]
  },
  {
   "cell_type": "markdown",
   "metadata": {},
   "source": [
    "$n\\dot\\log n$ !!!!!"
   ]
  },
  {
   "cell_type": "markdown",
   "metadata": {},
   "source": [
    "$n\\dot\\log n$ を讃えよ !!!!!"
   ]
  },
  {
   "cell_type": "code",
   "execution_count": 127,
   "metadata": {},
   "outputs": [
    {
     "data": {
      "text/plain": [
       "<matplotlib.legend.Legend at 0x11ffa0518>"
      ]
     },
     "execution_count": 127,
     "metadata": {},
     "output_type": "execute_result"
    },
    {
     "data": {
      "image/png": "[encoded data removed]",
      "text/plain": [
       "<Figure size 432x288 with 1 Axes>"
      ]
     },
     "metadata": {
      "needs_background": "light"
     },
     "output_type": "display_data"
    }
   ],
   "source": [
    "plt.plot([distribution(k).argmax() for k in range(0, 100)], label=\"mode of # of calls\")\n",
    "plt.legend()"
   ]
  },
  {
   "cell_type": "markdown",
   "metadata": {},
   "source": [
    "## kennzann\n"
   ]
  },
  {
   "cell_type": "code",
   "execution_count": 155,
   "metadata": {},
   "outputs": [],
   "source": [
    "kenz = numpy.zeros(distribution(7).size)\n",
    "\n",
    "for i in range(0, 10000):\n",
    "    count = 0\n",
    "    def f(a, b):\n",
    "        global count\n",
    "        count += 1\n",
    "        return random() < 0.5\n",
    "    sort([1,2,3,4,5,6,7], f)\n",
    "    kenz[count] += 1"
   ]
  },
  {
   "cell_type": "code",
   "execution_count": 156,
   "metadata": {},
   "outputs": [
    {
     "data": {
      "text/plain": [
       "<matplotlib.legend.Legend at 0x1208a3630>"
      ]
     },
     "execution_count": 156,
     "metadata": {},
     "output_type": "execute_result"
    },
    {
     "data": {
      "image/png": "[encoded data removed]",
      "text/plain": [
       "<Figure size 432x288 with 1 Axes>"
      ]
     },
     "metadata": {
      "needs_background": "light"
     },
     "output_type": "display_data"
    }
   ],
   "source": [
    "plt.plot(kenz/kenz.sum(), label=\"actual # of calls\")\n",
    "plt.plot(distribution(7), label=\"distribution of # of calls\")\n",
    "plt.legend()"
   ]
  },
  {
   "cell_type": "code",
   "execution_count": null,
   "metadata": {},
   "outputs": [],
   "source": []
  },
  {
   "cell_type": "code",
   "execution_count": null,
   "metadata": {},
   "outputs": [],
   "source": []
  }
 ],
 "metadata": {
  "kernelspec": {
   "display_name": "Python 3",
   "language": "python",
   "name": "python3"
  },
  "language_info": {
   "codemirror_mode": {
    "name": "ipython",
    "version": 3
   },
   "file_extension": ".py",
   "mimetype": "text/x-python",
   "name": "python",
   "nbconvert_exporter": "python",
   "pygments_lexer": "ipython3",
   "version": "3.7.0"
  }
 },
 "nbformat": 4,
 "nbformat_minor": 2
}
