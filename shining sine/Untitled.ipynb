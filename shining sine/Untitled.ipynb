{
 "cells": [
  {
   "cell_type": "markdown",
   "metadata": {},
   "source": [
    "# n度定規?"
   ]
  },
  {
   "cell_type": "markdown",
   "metadata": {},
   "source": [
    "角度が$45^\\circ, 90^\\circ, 45^\\circ$である三角形の三辺の比は$1:1:\\sqrt{2}$であるらしい。\n",
    "\n",
    "角度が$60^\\circ, 90^\\circ, 30^\\circ$である三角形の三辺の比は$1:\\sqrt{3}:2$であるらしい。\n",
    "\n",
    "角度が$75^\\circ, 90^\\circ, 15^\\circ$である三角形の三辺の比は$\\sqrt{6} - \\sqrt{2}:\\sqrt{6} + \\sqrt{2}:4$であるらしい。\n",
    "\n",
    "しかしながら、このようにして根号だけを用いて角度→三辺の比の変換ができるような角度は限られている。\n",
    "\n",
    "例えば、$\\sin 1^\\circ$はルートだけを用いて表すことはできない。（多分）\n",
    "\n",
    "では、どのような条件で根号だけを用いて角度→三辺の比の変換ができるのだろうか？調べてみようと思う。\n",
    "\n",
    "以下に示す図は、sympyのtrigsimp関数などを使って$0 \\geqq n \\geqq 90$の範囲で$\\sin n^\\circ$を可能な限り根号のある形に変換したものである。"
   ]
  },
  {
   "cell_type": "code",
   "execution_count": null,
   "metadata": {
    "collapsed": true
   },
   "outputs": [],
   "source": [
    "%matplotlib inline\n",
    "\n",
    "from sympy import *\n",
    "from sympy.geometry import *\n",
    "import matplotlib.pyplot as plt\n",
    "import matplotlib.lines as mpl_lines\n",
    "from matplotlib.path import Path\n",
    "import matplotlib.patches as patches\n",
    "\n",
    "init_printing()\n",
    "\n",
    "import math\n",
    "import numpy\n",
    "\n",
    "xlim = (-2,2)\n",
    "ylim = (-2,2)\n",
    "\n",
    "def slope_from_points(point1, point2):\n",
    "    return (point2.y - point1.y)/(point2.x - point1.x)\n",
    "\n",
    "def get_xlim_value(point1, point2):\n",
    "    # plot the secant\n",
    "    slope = slope_from_points(point1, point2)\n",
    "    intercept = point1.y - slope*point1.x\n",
    "    # update the points to be on the axes limits\n",
    "    if point1.x == point2.x:\n",
    "        data_x = (point1.x, point1.x)\n",
    "        data_y = ylim\n",
    "    else:\n",
    "        data_x = xlim\n",
    "        data_y = (xlim[0]*slope+intercept, ylim[1]*slope+intercept)\n",
    "    return data_x, data_y\n",
    "\n",
    "try:\n",
    "    currentobjs = currentobjs\n",
    "except NameError:\n",
    "    currentobjs = []\n",
    "\n",
    "def plot(obj, selected, name=\"\"):\n",
    "    if type(obj) == list:\n",
    "        for i in obj:\n",
    "            plot(i,selected)\n",
    "    if type(obj) == Point2D:\n",
    "        if selected == False:\n",
    "            plt.plot(obj.x, obj.y, 'ro')\n",
    "        else:\n",
    "            plt.plot(obj.x, obj.y, 'o', color=\"orange\")\n",
    "        plt.annotate(name, (obj.x,obj.y), fontsize=16, color=(0.5,0.1,0.1))\n",
    "    if type(obj) == Segment:\n",
    "        # plt.axes().add_line(mpl_lines.Line2D((obj.p1.x, obj.p2.x), (obj.p1.y, obj.p2.y)))\n",
    "        if selected == False:\n",
    "            plt.plot([obj.p1.x, obj.p2.x], [obj.p1.y, obj.p2.y], 'b-')\n",
    "        else:\n",
    "            plt.plot([obj.p1.x, obj.p2.x], [obj.p1.y, obj.p2.y], '-', color=\"orange\", linewidth=2)\n",
    "    if type(obj) == Line:\n",
    "        coor = get_xlim_value(obj.p1,obj.p2)\n",
    "        if selected == False:\n",
    "            plt.plot(coor[0], coor[1], 'b-')\n",
    "        else:\n",
    "            plt.plot(coor[0], coor[1], '-', color=\"orange\", linewidth=2)\n",
    "    if type(obj) == Polygon or type(obj) == Triangle:\n",
    "        verts = []\n",
    "        codes = []\n",
    "        \n",
    "        for k,v in enumerate(obj.vertices):\n",
    "            verts.append((v.x, v.y))\n",
    "            if k == 0:\n",
    "                codes.append(Path.MOVETO)\n",
    "            else:\n",
    "                codes.append(Path.LINETO)\n",
    "        verts.append((obj.vertices[0].x, obj.vertices[0].y))\n",
    "        codes.append(Path.CLOSEPOLY)\n",
    "        \n",
    "        path = Path(verts, codes)\n",
    "        if selected == False:\n",
    "            patch = patches.PathPatch(path, facecolor=(0,1,0.5,0.5), edgecolor=\"none\", lw=1)\n",
    "        else:\n",
    "            patch = patches.PathPatch(path, facecolor=(1,0.5,0,0.5), edgecolor=\"none\", lw=2)\n",
    "        plt.gca().add_patch(patch)\n",
    "\n",
    "def draw(*objs, add_currentobjs=True, sizex=16, sizey=None, colcount=2, rowcount=None):\n",
    "    \n",
    "    if rowcount == None:\n",
    "        rowcount = math.ceil(len(objs) / colcount)\n",
    "    \n",
    "    if sizey == None:\n",
    "        sizey = len(objs)*sizex/colcount/colcount\n",
    "    \n",
    "    plt.figure(figsize=(sizex,sizey))\n",
    "    for index, obj in enumerate(objs):\n",
    "        plt.subplot(rowcount, colcount, index+1)\n",
    "        \n",
    "        plt.gca().set_xlim(xlim)\n",
    "        plt.gca().set_ylim(ylim)\n",
    "        plt.gca().set_aspect('equal')\n",
    "        \n",
    "        for currentobj in currentobjs:\n",
    "            plot(currentobj[\"obj\"], False, name=currentobj.get(\"name\", \"\"))\n",
    "        plot(obj[\"obj\"], True, name=obj.get(\"name\", \"\"))\n",
    "        \n",
    "        if add_currentobjs:\n",
    "            currentobjs.append(obj)\n",
    "            plt.title(str(len(currentobjs)))\n",
    "        \n",
    "        if obj.get(\"title\"):\n",
    "            plt.title(obj.get(\"title\"))\n",
    "    \n",
    "    plt.show()"
   ]
  },
  {
   "cell_type": "code",
   "execution_count": null,
   "metadata": {
    "collapsed": false
   },
   "outputs": [],
   "source": [
    "objs = []\n",
    "formulas = []\n",
    "currentobjs = []\n",
    "\n",
    "for i in range(0, 91):\n",
    "    A = Point2D(0,0)\n",
    "    B = Point2D(sin(i*pi/180),0)\n",
    "    C = Point2D(sin(i*pi/180),cos(i*pi/180))\n",
    "    s = Segment(A, B)\n",
    "    t = Segment(B, C)\n",
    "    u = Segment(C, A)\n",
    "    formulas.append(expand(sqrtdenest(simplify(radsimp(factor(trigsimp(B.x)))))))\n",
    "    objs.append({\"obj\": [A,B,C,s,t,u], \"title\":r\"$\\sin \" + str(i) + r\"^\\circ = \" + latex(formulas[i]) + r\"$\"})\n",
    "\n",
    "draw(*objs, add_currentobjs=False, colcount=3)"
   ]
  },
  {
   "cell_type": "code",
   "execution_count": null,
   "metadata": {
    "collapsed": false
   },
   "outputs": [],
   "source": [
    "import pandas as pd\n",
    "\n",
    "pd.set_option('display.max_rows', len(formulas))\n",
    "pd.set_option('max_colwidth', 3000)\n",
    "df = pd.DataFrame({\"$\\sin n^\\circ$\": list(map(lambda x: \"$\" + latex(x) + \"$\", formulas))})\n",
    "df.style.apply(lambda x: ['background-color: rgb(' + str(240 - len(formulas[x.name].args)*10) + ', ' + str(255 - len(formulas[x.name].args)*3) + ', 255)'] if type(formulas[x.name]) != sin and type(formulas[x.name]) != cos else ['background-color: #ffefe0'], axis=1)"
   ]
  },
  {
   "cell_type": "code",
   "execution_count": null,
   "metadata": {
    "collapsed": false
   },
   "outputs": [],
   "source": []
  },
  {
   "cell_type": "code",
   "execution_count": null,
   "metadata": {
    "collapsed": false
   },
   "outputs": [],
   "source": []
  },
  {
   "cell_type": "code",
   "execution_count": null,
   "metadata": {
    "collapsed": true
   },
   "outputs": [],
   "source": []
  }
 ],
 "metadata": {
  "kernelspec": {
   "display_name": "Python 3",
   "language": "python",
   "name": "python3"
  },
  "language_info": {
   "codemirror_mode": {
    "name": "ipython",
    "version": 3
   },
   "file_extension": ".py",
   "mimetype": "text/x-python",
   "name": "python",
   "nbconvert_exporter": "python",
   "pygments_lexer": "ipython3",
   "version": "3.4.4"
  }
 },
 "nbformat": 4,
 "nbformat_minor": 0
}
