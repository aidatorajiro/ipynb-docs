{
 "cells": [
  {
   "cell_type": "code",
   "execution_count": 1,
   "metadata": {
    "collapsed": false
   },
   "outputs": [],
   "source": [
    "%matplotlib inline\n",
    "\n",
    "from sympy import *\n",
    "from sympy.geometry import *\n",
    "import matplotlib.pyplot as plt\n",
    "import matplotlib.lines as mpl_lines\n",
    "from matplotlib.path import Path\n",
    "import matplotlib.patches as patches\n",
    "from IPython.display import display\n",
    "from sympy.geometry.util import _symbol\n",
    "\n",
    "init_printing()\n",
    "\n",
    "import math\n",
    "import numpy\n",
    "\n",
    "def slope_from_points(point1, point2):\n",
    "    return (point2.y - point1.y)/(point2.x - point1.x)\n",
    "\n",
    "def get_xlim_value(point1, point2):\n",
    "    if point1.x == point2.x:\n",
    "        data_x = (point1.x, point1.x)\n",
    "        data_y = ylim\n",
    "    else:\n",
    "        slope = slope_from_points(point1, point2)\n",
    "        intercept = point1.y - slope*point1.x\n",
    "        data_x = xlim\n",
    "        data_y = (xlim[0]*slope+intercept, ylim[1]*slope+intercept)\n",
    "    return data_x, data_y\n",
    "\n",
    "def get_xlim_value_ray(point1, point2):\n",
    "    if point1.x == point2.x:\n",
    "        data_x = (point1.x, point1.x)\n",
    "        if point1.y > point2.y:\n",
    "            data_y = (point1.y, ylim[0])\n",
    "        else:\n",
    "            data_y = (point1.y, ylim[1])\n",
    "    else:\n",
    "        slope = slope_from_points(point1, point2)\n",
    "        intercept = point1.y - slope*point1.x\n",
    "        data_x = (point1.x, xlim[1])\n",
    "        data_y = (point1.y, ylim[1]*slope+intercept)\n",
    "    return data_x, data_y\n",
    "\n",
    "try:\n",
    "    currentobjs = currentobjs\n",
    "except NameError:\n",
    "    currentobjs = []\n",
    "\n",
    "def plot(args, selected):\n",
    "    obj = args[\"obj\"]\n",
    "    name = args.get(\"name\", \"\")\n",
    "    if type(obj) == Point2D:\n",
    "        if selected == False:\n",
    "            plt.plot(obj.x, obj.y, 'ro')\n",
    "        else:\n",
    "            plt.plot(obj.x, obj.y, 'o', color=\"orange\")\n",
    "        plt.annotate(name, (obj.x,obj.y), fontsize=16, color=(0.5,0.1,0.1))\n",
    "    if type(obj) == Segment:\n",
    "        # plt.axes().add_line(mpl_lines.Line2D((obj.p1.x, obj.p2.x), (obj.p1.y, obj.p2.y)))\n",
    "        if selected == False:\n",
    "            plt.plot([obj.p1.x, obj.p2.x], [obj.p1.y, obj.p2.y], 'b-')\n",
    "        else:\n",
    "            plt.plot([obj.p1.x, obj.p2.x], [obj.p1.y, obj.p2.y], '-', color=\"orange\", linewidth=2)\n",
    "    if type(obj) == Line:\n",
    "        coor = get_xlim_value(obj.p1,obj.p2)\n",
    "        if selected == False:\n",
    "            plt.plot(coor[0], coor[1], 'b-')\n",
    "        else:\n",
    "            plt.plot(coor[0], coor[1], '-', color=\"orange\", linewidth=2)\n",
    "    if type(obj) == Ray:\n",
    "        coor = get_xlim_value_ray(obj.p1,obj.p2)\n",
    "        if selected == False:\n",
    "            plt.plot(coor[0], coor[1], 'b-')\n",
    "        else:\n",
    "            plt.plot(coor[0], coor[1], '-', color=\"orange\", linewidth=2)\n",
    "    if type(obj) == Circle:\n",
    "        if selected == False:\n",
    "            artist = plt.Circle((obj.center.x, obj.center.y), obj.radius, edgecolor=\"blue\", facecolor=\"none\")\n",
    "        else:\n",
    "            artist = plt.Circle((obj.center.x, obj.center.y), obj.radius, edgecolor=\"orange\", facecolor=\"none\", lw=2)\n",
    "        plt.gca().add_artist(artist)\n",
    "    if type(obj) == Polygon or type(obj) == Triangle:\n",
    "        verts = []\n",
    "        codes = []\n",
    "        \n",
    "        for k,v in enumerate(obj.vertices):\n",
    "            verts.append((v.x, v.y))\n",
    "            if k == 0:\n",
    "                codes.append(Path.MOVETO)\n",
    "            else:\n",
    "                codes.append(Path.LINETO)\n",
    "        verts.append((obj.vertices[0].x, obj.vertices[0].y))\n",
    "        codes.append(Path.CLOSEPOLY)\n",
    "        \n",
    "        path = Path(verts, codes)\n",
    "        if selected == False:\n",
    "            patch = patches.PathPatch(path, facecolor=(0,1,0.5,0.5), edgecolor=\"none\", lw=1)\n",
    "        else:\n",
    "            patch = patches.PathPatch(path, facecolor=(1,0.5,0,0.5), edgecolor=\"none\", lw=2)\n",
    "        plt.gca().add_patch(patch)\n",
    "\n",
    "def draw(*objs, add_currentobjs=True, sizex=16, sizey=None, colcount=2, rowcount=None):\n",
    "    \n",
    "    if rowcount == None:\n",
    "        rowcount = math.ceil(len(objs) / colcount)\n",
    "    \n",
    "    if sizey == None:\n",
    "        sizey = len(objs)*sizex/colcount/colcount\n",
    "    \n",
    "    plt.figure(figsize=(sizex,sizey))\n",
    "    for index, obj in enumerate(objs):\n",
    "        plt.subplot(rowcount, colcount, index+1)\n",
    "        \n",
    "        plt.gca().set_xlim(xlim)\n",
    "        plt.gca().set_ylim(ylim)\n",
    "        plt.gca().set_aspect('equal')\n",
    "        \n",
    "        for currentobj in currentobjs:\n",
    "            plot(currentobj, False)\n",
    "        plot(obj, True)\n",
    "        \n",
    "        if add_currentobjs:\n",
    "            currentobjs.append(obj)\n",
    "            plt.title(str(len(currentobjs)))\n",
    "    \n",
    "    plt.show()\n",
    "\n",
    "\n",
    "# 方程式をyについての方程式に変換する\n",
    "def y_equal(ex):\n",
    "    return Eq(_symbol('y'), solve(ex, _symbol('y'))[0])"
   ]
  },
  {
   "cell_type": "markdown",
   "metadata": {},
   "source": [
    "# 問題を解こう！\n",
    "\n",
    "参考書の問題をsympyで解いて見ます．\n",
    "\n",
    "## ISBN978-4-402-27286-9 「Focus Gold 4th Edition 数学Ⅱ＋B」\n",
    "### p.228\n",
    "#### [1]\n",
    "\n",
    "##### (1)\n",
    "\n",
    "とりあえず点Aと点Bを描画．"
   ]
  },
  {
   "cell_type": "code",
   "execution_count": 2,
   "metadata": {
    "collapsed": false,
    "scrolled": false
   },
   "outputs": [
    {
     "data": {
      "image/png": "[encoded data removed]",
      "text/plain": [
       "<matplotlib.figure.Figure at 0x10eb0fa20>"
      ]
     },
     "metadata": {},
     "output_type": "display_data"
    }
   ],
   "source": [
    "t = Symbol('t', positive=True)\n",
    "\n",
    "currentobjs = []\n",
    "\n",
    "xlim = (-1,4)\n",
    "ylim = (-1,4)\n",
    "\n",
    "A = Point2D(0, 1) # 点A\n",
    "B = Point2D(0, 3) # 点B\n",
    "P = Point2D(t, 0) # 点P\n",
    "\n",
    "draw({\"obj\": A, \"name\": \"A\"}, {\"obj\": B, \"name\": \"B\"})"
   ]
  },
  {
   "cell_type": "markdown",
   "metadata": {},
   "source": [
    "A, B, Pを通る円の中心を求める．"
   ]
  },
  {
   "cell_type": "code",
   "execution_count": 3,
   "metadata": {
    "collapsed": false
   },
   "outputs": [],
   "source": [
    "circle = Circle(A, B, P)"
   ]
  },
  {
   "cell_type": "code",
   "execution_count": 4,
   "metadata": {
    "collapsed": false
   },
   "outputs": [
    {
     "data": {
      "image/png": "[encoded data removed]",
      "text/latex": [
       "$$\\left ( \\frac{t^{2} + 3}{2 t}, \\quad 2\\right )$$"
      ],
      "text/plain": [
       "⎛ 2       ⎞\n",
       "⎜t  + 3   ⎟\n",
       "⎜──────, 2⎟\n",
       "⎝ 2⋅t     ⎠"
      ]
     },
     "execution_count": 4,
     "metadata": {},
     "output_type": "execute_result"
    }
   ],
   "source": [
    "(circle.center.x, circle.center.y)"
   ]
  },
  {
   "cell_type": "markdown",
   "metadata": {},
   "source": [
    "##### (2), (3)"
   ]
  },
  {
   "cell_type": "markdown",
   "metadata": {},
   "source": [
    "circleの点Pでの接線がx軸と一致するtの値を求める．"
   ]
  },
  {
   "cell_type": "code",
   "execution_count": 5,
   "metadata": {
    "collapsed": false
   },
   "outputs": [
    {
     "data": {
      "image/png": "[encoded data removed]",
      "text/plain": [
       "<matplotlib.figure.Figure at 0x1192cae80>"
      ]
     },
     "metadata": {},
     "output_type": "display_data"
    }
   ],
   "source": [
    "xp = Ray(Point2D(0, 0), Point2D(1, 0))# x軸の正の部分=Pの動く範囲\n",
    "draw({\"obj\": xp})"
   ]
  },
  {
   "cell_type": "code",
   "execution_count": 6,
   "metadata": {
    "collapsed": false
   },
   "outputs": [
    {
     "data": {
      "image/png": "[encoded data removed]",
      "text/latex": [
       "$$\\left [ \\left \\{ t : \\sqrt{3}\\right \\}, \\quad \\left \\{ x : t\\right \\}\\right ]$$"
      ],
      "text/plain": [
       "[{t: √3}, {x: t}]"
      ]
     },
     "execution_count": 6,
     "metadata": {},
     "output_type": "execute_result"
    }
   ],
   "source": [
    "eq = circle.tangent_lines(P)[0].equation().subs(_symbol('y'), 0) # Circle(A, B, P)の点Pでの接線の方程式にy=0を代入したもの\n",
    "sol = solve(eq)\n",
    "\n",
    "sol"
   ]
  },
  {
   "cell_type": "markdown",
   "metadata": {},
   "source": [
    "したがって，(2)の答えは"
   ]
  },
  {
   "cell_type": "code",
   "execution_count": 7,
   "metadata": {
    "collapsed": false
   },
   "outputs": [
    {
     "data": {
      "image/png": "[encoded data removed]",
      "text/latex": [
       "$$\\left(x - \\sqrt{3}\\right)^{2} + \\left(y - 2\\right)^{2} - 4 = 0$$"
      ],
      "text/plain": [
       "        2          2        \n",
       "(x - √3)  + (y - 2)  - 4 = 0"
      ]
     },
     "execution_count": 7,
     "metadata": {},
     "output_type": "execute_result"
    }
   ],
   "source": [
    "Eq(circle.equation().subs(t, sol[0][t]), 0)"
   ]
  },
  {
   "cell_type": "markdown",
   "metadata": {},
   "source": [
    "(3)の答えは"
   ]
  },
  {
   "cell_type": "code",
   "execution_count": 8,
   "metadata": {
    "collapsed": false
   },
   "outputs": [
    {
     "data": {
      "image/png": "[encoded data removed]",
      "text/latex": [
       "$$\\left ( \\sqrt{3}, \\quad 0\\right )$$"
      ],
      "text/plain": [
       "(√3, 0)"
      ]
     },
     "execution_count": 8,
     "metadata": {},
     "output_type": "execute_result"
    }
   ],
   "source": [
    "(sol[0][t], 0)"
   ]
  },
  {
   "cell_type": "code",
   "execution_count": 9,
   "metadata": {
    "collapsed": false
   },
   "outputs": [
    {
     "data": {
      "image/png": "[encoded data removed]",
      "text/plain": [
       "<matplotlib.figure.Figure at 0x119a20ba8>"
      ]
     },
     "metadata": {},
     "output_type": "display_data"
    }
   ],
   "source": [
    "_circle = Circle(A, B, Point2D(sol[0][t], 0))\n",
    "draw({\"obj\": _circle})"
   ]
  },
  {
   "cell_type": "code",
   "execution_count": 10,
   "metadata": {
    "collapsed": false
   },
   "outputs": [],
   "source": [
    "del t, A, B, P, circle, xp, eq, sol, _circle"
   ]
  },
  {
   "cell_type": "markdown",
   "metadata": {},
   "source": [
    "##### 反省しよう\n",
    "\n",
    "解答編の解説では，circleの中心のx座標とtの値が一致することから，$t=\\sqrt{3}$を導き出していた．こっちの方がより綺麗な解き方だったと思う．"
   ]
  },
  {
   "cell_type": "markdown",
   "metadata": {},
   "source": [
    "#### [2]\n",
    "##### (1)"
   ]
  },
  {
   "cell_type": "markdown",
   "metadata": {},
   "source": [
    "$C_1$は$Circle(Point2D(0, 1), 1)$  \n",
    "$C_2$は$Circle(Point2D(4, r), r)$\n",
    "\n",
    "$C_1$の中心を$O_1$，$C_2$の中心を$O_2$とする．\n",
    "\n",
    "$O_1O_2$と$C_1$の交点と，$O_1O_2$と$C_2$の交点が一致すれば良い．"
   ]
  },
  {
   "cell_type": "code",
   "execution_count": 11,
   "metadata": {
    "collapsed": false
   },
   "outputs": [
    {
     "data": {
      "image/png": "[encoded data removed]",
      "text/plain": [
       "<matplotlib.figure.Figure at 0x119c05c50>"
      ]
     },
     "metadata": {},
     "output_type": "display_data"
    }
   ],
   "source": [
    "r = Symbol(\"r\", real=True)\n",
    "x = Symbol(\"x\")\n",
    "y = Symbol(\"y\")\n",
    "\n",
    "xlim = (-2,9)\n",
    "ylim = (-1,9)\n",
    "\n",
    "currentobjs = []\n",
    "\n",
    "c1 = Circle(Point2D(0, 1), 1)\n",
    "c2 = Circle(Point2D(4, r), r)\n",
    "\n",
    "o1o2_c1 = Line(c1.center, c2.center).intersection(c1)\n",
    "o1o2_c2 = Line(c1.center, c2.center).intersection(c2)\n",
    "\n",
    "draw({\"obj\": c1})"
   ]
  },
  {
   "cell_type": "code",
   "execution_count": 12,
   "metadata": {
    "collapsed": false
   },
   "outputs": [
    {
     "data": {
      "image/png": "[encoded data removed]",
      "text/latex": [
       "$$\\left [ Point2D(-4/sqrt((r - 1)**2 + 16), (-r + sqrt((r - 1)**2 + 16) + 1)/sqrt((r - 1)**2 + 16)), \\quad Point2D(4/sqrt((r - 1)**2 + 16), (r + sqrt((r - 1)**2 + 16) - 1)/sqrt((r - 1)**2 + 16))\\right ]$$"
      ],
      "text/plain": [
       "[Point2D(-4/sqrt((r - 1)**2 + 16), (-r + sqrt((r - 1)**2 + 16) + 1)/sqrt((r - \n",
       "1)**2 + 16)), Point2D(4/sqrt((r - 1)**2 + 16), (r + sqrt((r - 1)**2 + 16) - 1)\n",
       "/sqrt((r - 1)**2 + 16))]"
      ]
     },
     "execution_count": 12,
     "metadata": {},
     "output_type": "execute_result"
    }
   ],
   "source": [
    "o1o2_c1 # O1O2とC1の交点"
   ]
  },
  {
   "cell_type": "code",
   "execution_count": 13,
   "metadata": {
    "collapsed": false
   },
   "outputs": [
    {
     "data": {
      "image/png": "[encoded data removed]",
      "text/latex": [
       "$$\\left [ Point2D(-4*r**2/(sqrt(r**2 - 2*r + 17)*Abs(r)) + 4, r*(-r**2 + r + sqrt(r**2 - 2*r + 17)*Abs(r))/(sqrt(r**2 - 2*r + 17)*Abs(r))), \\quad Point2D(4*(r**2*sqrt((r - 1)**2 + 16) + ((r - 1)**2 + 16)*Abs(r))/(((r - 1)**2 + 16)*Abs(r)), r*(r**2 - r + sqrt(r**2 - 2*r + 17)*Abs(r))/(sqrt(r**2 - 2*r + 17)*Abs(r)))\\right ]$$"
      ],
      "text/plain": [
       "[Point2D(-4*r**2/(sqrt(r**2 - 2*r + 17)*Abs(r)) + 4, r*(-r**2 + r + sqrt(r**2 \n",
       "- 2*r + 17)*Abs(r))/(sqrt(r**2 - 2*r + 17)*Abs(r))), Point2D(4*(r**2*sqrt((r -\n",
       " 1)**2 + 16) + ((r - 1)**2 + 16)*Abs(r))/(((r - 1)**2 + 16)*Abs(r)), r*(r**2 -\n",
       " r + sqrt(r**2 - 2*r + 17)*Abs(r))/(sqrt(r**2 - 2*r + 17)*Abs(r)))]"
      ]
     },
     "execution_count": 13,
     "metadata": {},
     "output_type": "execute_result"
    }
   ],
   "source": [
    "o1o2_c2 # O1O2とC2の交点"
   ]
  },
  {
   "cell_type": "markdown",
   "metadata": {},
   "source": [
    "交点がそれぞれ2つあるので，４通りに場合分けすれば良い．"
   ]
  },
  {
   "cell_type": "code",
   "execution_count": 14,
   "metadata": {
    "collapsed": false
   },
   "outputs": [
    {
     "data": {
      "image/png": "[encoded data removed]",
      "text/latex": [
       "$$\\left [ \\right ]$$"
      ],
      "text/plain": [
       "[]"
      ]
     },
     "execution_count": 14,
     "metadata": {},
     "output_type": "execute_result"
    }
   ],
   "source": [
    "solve([Eq(o1o2_c1[0].x, o1o2_c2[0].x), Eq(o1o2_c1[0].y, o1o2_c2[0].y)], r)"
   ]
  },
  {
   "cell_type": "code",
   "execution_count": 15,
   "metadata": {
    "collapsed": false
   },
   "outputs": [
    {
     "data": {
      "image/png": "[encoded data removed]",
      "text/latex": [
       "$$\\left [ \\right ]$$"
      ],
      "text/plain": [
       "[]"
      ]
     },
     "execution_count": 15,
     "metadata": {},
     "output_type": "execute_result"
    }
   ],
   "source": [
    "solve([Eq(o1o2_c1[0].x, o1o2_c2[1].x), Eq(o1o2_c1[0].y, o1o2_c2[1].y)], r)"
   ]
  },
  {
   "cell_type": "code",
   "execution_count": 16,
   "metadata": {
    "collapsed": false
   },
   "outputs": [
    {
     "data": {
      "image/png": "[encoded data removed]",
      "text/latex": [
       "$$\\left [ \\left ( 4\\right )\\right ]$$"
      ],
      "text/plain": [
       "[(4,)]"
      ]
     },
     "execution_count": 16,
     "metadata": {},
     "output_type": "execute_result"
    }
   ],
   "source": [
    "solve([Eq(o1o2_c1[1].x, o1o2_c2[0].x), Eq(o1o2_c1[1].y, o1o2_c2[0].y)], r)"
   ]
  },
  {
   "cell_type": "code",
   "execution_count": 17,
   "metadata": {
    "collapsed": false
   },
   "outputs": [
    {
     "data": {
      "image/png": "[encoded data removed]",
      "text/latex": [
       "$$\\left [ \\right ]$$"
      ],
      "text/plain": [
       "[]"
      ]
     },
     "execution_count": 17,
     "metadata": {},
     "output_type": "execute_result"
    }
   ],
   "source": [
    "solve([Eq(o1o2_c1[1].x, o1o2_c2[1].x), Eq(o1o2_c1[1].y, o1o2_c2[1].y)], r)"
   ]
  },
  {
   "cell_type": "markdown",
   "metadata": {},
   "source": [
    "したがって，$r = 4$"
   ]
  },
  {
   "cell_type": "markdown",
   "metadata": {},
   "source": [
    "##### (2)\n",
    "\n",
    "$C_1 = Circle(Point2D(0, 1), 1)$  \n",
    "$C_2 = Circle(Point2D(4, 4), 4)$  \n",
    "であることが分かった．\n",
    "\n",
    "二つの円の交点を求め，その点を通る接線の方程式を求める．  \n",
    "二つの円は接するのだから交点は一つになるはずだ．"
   ]
  },
  {
   "cell_type": "code",
   "execution_count": 18,
   "metadata": {
    "collapsed": false
   },
   "outputs": [
    {
     "data": {
      "image/png": "[encoded data removed]",
      "text/latex": [
       "$$\\left [ Point2D(4/5, 8/5)\\right ]$$"
      ],
      "text/plain": [
       "[Point2D(4/5, 8/5)]"
      ]
     },
     "execution_count": 18,
     "metadata": {},
     "output_type": "execute_result"
    }
   ],
   "source": [
    "_c2 = Circle(Point2D(4,4),4)\n",
    "\n",
    "intersections = c1.intersection(_c2)\n",
    "intersections"
   ]
  },
  {
   "cell_type": "markdown",
   "metadata": {},
   "source": [
    "予想通り交点が一つになった．"
   ]
  },
  {
   "cell_type": "code",
   "execution_count": 19,
   "metadata": {
    "collapsed": false
   },
   "outputs": [
    {
     "data": {
      "image/png": "[encoded data removed]",
      "text/plain": [
       "<matplotlib.figure.Figure at 0x11a2af668>"
      ]
     },
     "metadata": {},
     "output_type": "display_data"
    }
   ],
   "source": [
    "draw({\"obj\": _c2}, {\"obj\": intersections[0]})"
   ]
  },
  {
   "cell_type": "markdown",
   "metadata": {},
   "source": [
    "次にこの点を通りc1と接する直線を求める"
   ]
  },
  {
   "cell_type": "code",
   "execution_count": 20,
   "metadata": {
    "collapsed": false
   },
   "outputs": [
    {
     "data": {
      "image/png": "[encoded data removed]",
      "text/latex": [
       "$$\\left [ Line(Point2D(4/5, 8/5), Point2D(7/5, 4/5))\\right ]$$"
      ],
      "text/plain": [
       "[Line(Point2D(4/5, 8/5), Point2D(7/5, 4/5))]"
      ]
     },
     "execution_count": 20,
     "metadata": {},
     "output_type": "execute_result"
    }
   ],
   "source": [
    "tls = c1.tangent_lines(intersections[0])\n",
    "tls"
   ]
  },
  {
   "cell_type": "markdown",
   "metadata": {},
   "source": [
    "こちらも一つのみ存在するようだ．\n",
    "\n",
    "したがって，答えは"
   ]
  },
  {
   "cell_type": "code",
   "execution_count": 21,
   "metadata": {
    "collapsed": false
   },
   "outputs": [
    {
     "data": {
      "image/png": "[encoded data removed]",
      "text/latex": [
       "$$\\frac{4 x}{5} + \\frac{3 y}{5} - \\frac{8}{5} = 0$$"
      ],
      "text/plain": [
       "4⋅x   3⋅y   8    \n",
       "─── + ─── - ─ = 0\n",
       " 5     5    5    "
      ]
     },
     "execution_count": 21,
     "metadata": {},
     "output_type": "execute_result"
    }
   ],
   "source": [
    "Eq(tls[0].equation(), 0)"
   ]
  },
  {
   "cell_type": "markdown",
   "metadata": {},
   "source": [
    "実は共通接線は他にも存在することが答えを見て判明したので，全ての共通接線を一度に求めるため，もう少し別の解き方をしてみる．\n",
    "\n",
    "まず，答えとなる方程式を$y = ax + b$とおく．  \n",
    "また，共通接線を$l$とする．"
   ]
  },
  {
   "cell_type": "code",
   "execution_count": 22,
   "metadata": {
    "collapsed": false
   },
   "outputs": [],
   "source": [
    "a = Symbol(\"a\")\n",
    "b = Symbol(\"b\")\n",
    "l = Line(Point2D(0,b), slope = a)\n",
    "\n",
    "c1_intersection = c1.intersection(l)\n",
    "_c2_intersection = _c2.intersection(l)"
   ]
  },
  {
   "cell_type": "markdown",
   "metadata": {},
   "source": [
    "$l$と$C_1$の２つの交点が一致し，かつ$l$と$C_2$の２つの交点が一致することから，連立方程式を作り，それを解く．"
   ]
  },
  {
   "cell_type": "code",
   "execution_count": 23,
   "metadata": {
    "collapsed": false
   },
   "outputs": [
    {
     "data": {
      "image/png": "[encoded data removed]",
      "text/latex": [
       "$$\\left [ \\left ( - \\sqrt{b \\left(b - 2\\right)}\\right ), \\quad \\left ( \\sqrt{b \\left(b - 2\\right)}\\right )\\right ]$$"
      ],
      "text/plain": [
       "⎡⎛   ___________ ⎞  ⎛  ___________ ⎞⎤\n",
       "⎣⎝-╲╱ b⋅(b - 2) ,⎠, ⎝╲╱ b⋅(b - 2) ,⎠⎦"
      ]
     },
     "execution_count": 23,
     "metadata": {},
     "output_type": "execute_result"
    }
   ],
   "source": [
    "sol1 = solve([Eq(c1_intersection[0].x, c1_intersection[1].x), Eq(c1_intersection[0].y, c1_intersection[1].y)], a)\n",
    "sol1 # aとして考えられるもの"
   ]
  },
  {
   "cell_type": "code",
   "execution_count": 24,
   "metadata": {
    "collapsed": false
   },
   "outputs": [
    {
     "data": {
      "image/png": "[encoded data removed]",
      "text/latex": [
       "$$\\left [ \\left ( - 4 a - 4 \\sqrt{a^{2} + 1} + 4\\right ), \\quad \\left ( - 4 a + 4 \\sqrt{a^{2} + 1} + 4\\right )\\right ]$$"
      ],
      "text/plain": [
       "⎡⎛            ________     ⎞  ⎛            ________     ⎞⎤\n",
       "⎢⎜           ╱  2          ⎟  ⎜           ╱  2          ⎟⎥\n",
       "⎣⎝-4⋅a - 4⋅╲╱  a  + 1  + 4,⎠, ⎝-4⋅a + 4⋅╲╱  a  + 1  + 4,⎠⎦"
      ]
     },
     "execution_count": 24,
     "metadata": {},
     "output_type": "execute_result"
    }
   ],
   "source": [
    "sol2 = solve([Eq(_c2_intersection[0].x, _c2_intersection[1].x), Eq(_c2_intersection[0].y, _c2_intersection[1].y)], b)\n",
    "sol2 # bとして考えられるもの"
   ]
  },
  {
   "cell_type": "code",
   "execution_count": 25,
   "metadata": {
    "collapsed": false
   },
   "outputs": [
    {
     "data": {
      "image/png": "[encoded data removed]",
      "text/latex": [
       "$$\\left [ \\left ( - \\frac{4}{3}, \\quad \\frac{8}{3}\\right ), \\quad \\left ( 0, \\quad 0\\right )\\right ]$$"
      ],
      "text/plain": [
       "[(-4/3, 8/3), (0, 0)]"
      ]
     },
     "execution_count": 25,
     "metadata": {},
     "output_type": "execute_result"
    }
   ],
   "source": [
    "sol3 = solve([Eq(a, sol1[0][0]), Eq(b, sol2[0][0])], [a, b])\n",
    "sol3"
   ]
  },
  {
   "cell_type": "code",
   "execution_count": 26,
   "metadata": {
    "collapsed": false
   },
   "outputs": [
    {
     "data": {
      "image/png": "[encoded data removed]",
      "text/latex": [
       "$$\\left [ \\left ( 0, \\quad 0\\right )\\right ]$$"
      ],
      "text/plain": [
       "[(0, 0)]"
      ]
     },
     "execution_count": 26,
     "metadata": {},
     "output_type": "execute_result"
    }
   ],
   "source": [
    "sol4 = solve([Eq(a, sol1[1][0]), Eq(b, sol2[0][0])], [a, b])\n",
    "sol4"
   ]
  },
  {
   "cell_type": "code",
   "execution_count": 27,
   "metadata": {
    "collapsed": false
   },
   "outputs": [
    {
     "data": {
      "image/png": "[encoded data removed]",
      "text/latex": [
       "$$\\left [ \\right ]$$"
      ],
      "text/plain": [
       "[]"
      ]
     },
     "execution_count": 27,
     "metadata": {},
     "output_type": "execute_result"
    }
   ],
   "source": [
    "sol5 = solve([Eq(a, sol1[0][0]), Eq(b, sol2[1][0])], [a, b])\n",
    "sol5"
   ]
  },
  {
   "cell_type": "code",
   "execution_count": 28,
   "metadata": {
    "collapsed": false
   },
   "outputs": [
    {
     "data": {
      "image/png": "[encoded data removed]",
      "text/latex": [
       "$$\\left [ \\left ( \\frac{24}{7}, \\quad \\frac{32}{7}\\right )\\right ]$$"
      ],
      "text/plain": [
       "[(24/7, 32/7)]"
      ]
     },
     "execution_count": 28,
     "metadata": {},
     "output_type": "execute_result"
    }
   ],
   "source": [
    "sol6 = solve([Eq(a, sol1[1][0]), Eq(b, sol2[1][0])], [a, b])\n",
    "sol6"
   ]
  },
  {
   "cell_type": "markdown",
   "metadata": {},
   "source": [
    "以上の計算結果から，\n",
    "\n",
    "$ (a, b) = \\left ( - \\frac{4}{3}, \\quad \\frac{8}{3}\\right ), \\quad \\left ( 0, \\quad 0\\right ), \\quad \\left ( \\frac{24}{7}, \\quad \\frac{32}{7}\\right ) $\n",
    "\n",
    "したがって，答えは"
   ]
  },
  {
   "cell_type": "code",
   "execution_count": 29,
   "metadata": {
    "collapsed": false
   },
   "outputs": [
    {
     "data": {
      "image/png": "[encoded data removed]",
      "text/latex": [
       "$$y = - \\frac{4 x}{3} + \\frac{8}{3}$$"
      ],
      "text/plain": [
       "      4⋅x   8\n",
       "y = - ─── + ─\n",
       "       3    3"
      ]
     },
     "execution_count": 29,
     "metadata": {},
     "output_type": "execute_result"
    }
   ],
   "source": [
    "eq = Eq(y, a * x + b)\n",
    "\n",
    "eq.subs(zip([a, b], sol3[0]))"
   ]
  },
  {
   "cell_type": "code",
   "execution_count": 30,
   "metadata": {
    "collapsed": false
   },
   "outputs": [
    {
     "data": {
      "image/png": "[encoded data removed]",
      "text/latex": [
       "$$y = 0$$"
      ],
      "text/plain": [
       "y = 0"
      ]
     },
     "execution_count": 30,
     "metadata": {},
     "output_type": "execute_result"
    }
   ],
   "source": [
    "eq.subs(zip([a, b], sol3[1]))"
   ]
  },
  {
   "cell_type": "code",
   "execution_count": 31,
   "metadata": {
    "collapsed": false
   },
   "outputs": [
    {
     "data": {
      "image/png": "[encoded data removed]",
      "text/latex": [
       "$$y = \\frac{24 x}{7} + \\frac{32}{7}$$"
      ],
      "text/plain": [
       "    24⋅x   32\n",
       "y = ──── + ──\n",
       "     7     7 "
      ]
     },
     "execution_count": 31,
     "metadata": {},
     "output_type": "execute_result"
    }
   ],
   "source": [
    "eq.subs(zip([a, b], sol6[0]))"
   ]
  },
  {
   "cell_type": "code",
   "execution_count": 32,
   "metadata": {
    "collapsed": false
   },
   "outputs": [
    {
     "data": {
      "image/png": "[encoded data removed]",
      "text/plain": [
       "<matplotlib.figure.Figure at 0x119a2fa58>"
      ]
     },
     "metadata": {},
     "output_type": "display_data"
    },
    {
     "data": {
      "image/png": "[encoded data removed]",
      "text/plain": [
       "<matplotlib.figure.Figure at 0x119a20ef0>"
      ]
     },
     "metadata": {},
     "output_type": "display_data"
    },
    {
     "data": {
      "image/png": "[encoded data removed]",
      "text/plain": [
       "<matplotlib.figure.Figure at 0x119a20f60>"
      ]
     },
     "metadata": {},
     "output_type": "display_data"
    }
   ],
   "source": [
    "draw({\"obj\": l.subs(zip([a, b], sol3[0]))}, add_currentobjs=False)\n",
    "draw({\"obj\": l.subs(zip([a, b], sol3[1]))}, add_currentobjs=False)\n",
    "draw({\"obj\": l.subs(zip([a, b], sol6[0]))}, add_currentobjs=False)"
   ]
  },
  {
   "cell_type": "code",
   "execution_count": 33,
   "metadata": {
    "collapsed": false
   },
   "outputs": [],
   "source": [
    "del r, x, y, c1, c2, o1o2_c1, o1o2_c2, _c2, intersections, tls, a, b, l, c1_intersection, _c2_intersection, sol1, sol2, sol3, sol4, sol5, sol6"
   ]
  },
  {
   "cell_type": "markdown",
   "metadata": {},
   "source": [
    "#### [3]\n",
    "##### (1)"
   ]
  },
  {
   "cell_type": "markdown",
   "metadata": {},
   "source": [
    "まずは，わかりやすくするために図を書こうと思う．\n",
    "下の図は仮に$a = 5$とした時のものである．"
   ]
  },
  {
   "cell_type": "code",
   "execution_count": 34,
   "metadata": {
    "collapsed": false
   },
   "outputs": [
    {
     "data": {
      "image/png": "[encoded data removed]",
      "text/plain": [
       "<matplotlib.figure.Figure at 0x119b88c18>"
      ]
     },
     "metadata": {},
     "output_type": "display_data"
    }
   ],
   "source": [
    "xlim = (-5,5)\n",
    "ylim = (-5,5)\n",
    "\n",
    "currentobjs = []\n",
    "\n",
    "C = Circle(Point2D(0, 0), 1)\n",
    "a = Symbol(\"a\", real=True, positive=True)\n",
    "A = Point2D(0, 1)\n",
    "l = Line(p1 = A, slope = a)\n",
    "P = next(filter(lambda x: x != A, C.intersection(l)))\n",
    "ym2 = Line(Point2D(0, -2), Point2D(1, -2))\n",
    "Q = l.intersection(ym2)[0]\n",
    "m = C.tangent_lines(P)[0]\n",
    "R = m.intersection(ym2)[0]\n",
    "\n",
    "draw(\n",
    "    {\"obj\": C, \"name\": \"C\"},\n",
    "    {\"obj\": A, \"name\": \"A\"}, \n",
    "    {\"obj\": l.subs(a, 5), \"name\": \"l\"}, \n",
    "    {\"obj\": P.subs(a, 5), \"name\": \"P\"}, \n",
    "    {\"obj\": ym2, \"name\": \"y = -2\"}, \n",
    "    {\"obj\": Q.subs(a, 5), \"name\": \"Q\"}, \n",
    "    {\"obj\": m.subs(a, 5), \"name\": \"m\"}, \n",
    "    {\"obj\": R.subs(a, 5), \"name\": \"R\"}\n",
    ")"
   ]
  },
  {
   "cell_type": "markdown",
   "metadata": {},
   "source": [
    "(1)の答えは，"
   ]
  },
  {
   "cell_type": "code",
   "execution_count": 35,
   "metadata": {
    "collapsed": false
   },
   "outputs": [
    {
     "data": {
      "image/png": "[encoded data removed]",
      "text/latex": [
       "$$y = - \\frac{1}{a^{2} - 1} \\left(a^{2} + 2 a x + 1\\right)$$"
      ],
      "text/plain": [
       "     ⎛ 2            ⎞ \n",
       "    -⎝a  + 2⋅a⋅x + 1⎠ \n",
       "y = ──────────────────\n",
       "           2          \n",
       "          a  - 1      "
      ]
     },
     "execution_count": 35,
     "metadata": {},
     "output_type": "execute_result"
    }
   ],
   "source": [
    "currentobjs = []\n",
    "\n",
    "y_equal(Eq(m.equation(), 0))"
   ]
  },
  {
   "cell_type": "markdown",
   "metadata": {},
   "source": [
    "##### (2)\n",
    "\n",
    "まず，線分QRの長さを求める．"
   ]
  },
  {
   "cell_type": "code",
   "execution_count": 36,
   "metadata": {
    "collapsed": false
   },
   "outputs": [
    {
     "data": {
      "image/png": "[encoded data removed]",
      "text/latex": [
       "$$\\left|{\\frac{a^{2} - 3}{2 a} + \\frac{3}{a}}\\right|$$"
      ],
      "text/plain": [
       "│ 2        │\n",
       "│a  - 3   3│\n",
       "│────── + ─│\n",
       "│ 2⋅a     a│"
      ]
     },
     "execution_count": 36,
     "metadata": {},
     "output_type": "execute_result"
    }
   ],
   "source": [
    "QRlen = Segment(Q, R).length\n",
    "QRlen"
   ]
  },
  {
   "cell_type": "markdown",
   "metadata": {},
   "source": [
    "微分し，方程式を解く．"
   ]
  },
  {
   "cell_type": "code",
   "execution_count": 37,
   "metadata": {
    "collapsed": false
   },
   "outputs": [
    {
     "data": {
      "image/png": "[encoded data removed]",
      "text/latex": [
       "$$\\left [ \\sqrt{3}\\right ]$$"
      ],
      "text/plain": [
       "[√3]"
      ]
     },
     "execution_count": 37,
     "metadata": {},
     "output_type": "execute_result"
    }
   ],
   "source": [
    "sol1 = solve(Eq(QRlen.diff(), 0))\n",
    "sol1"
   ]
  },
  {
   "cell_type": "markdown",
   "metadata": {},
   "source": [
    "$a = \\sqrt{3}$であることが分かった．\n",
    "\n",
    "ちなみに，線分QRの長さやそれを微分したものをグラフにすると，次のようになる．"
   ]
  },
  {
   "cell_type": "code",
   "execution_count": 38,
   "metadata": {
    "collapsed": false
   },
   "outputs": [
    {
     "data": {
      "image/png": "[encoded data removed]",
      "text/plain": [
       "<matplotlib.figure.Figure at 0x119ee76a0>"
      ]
     },
     "metadata": {},
     "output_type": "display_data"
    }
   ],
   "source": [
    "import sympy.plotting\n",
    "\n",
    "sympy.plotting.plot(QRlen, xlim=(0,10), ylim=(-10,10)) # 線分QRの長さ\n",
    "None"
   ]
  },
  {
   "cell_type": "code",
   "execution_count": 39,
   "metadata": {
    "collapsed": false
   },
   "outputs": [
    {
     "data": {
      "image/png": "[encoded data removed]",
      "text/plain": [
       "<matplotlib.figure.Figure at 0x119ee7320>"
      ]
     },
     "metadata": {},
     "output_type": "display_data"
    }
   ],
   "source": [
    "import sympy.plotting\n",
    "\n",
    "sympy.plotting.plot(QRlen.diff(), xlim=(0,10), ylim=(-10,10)) # 線分QRの長さを微分したもの\n",
    "None"
   ]
  },
  {
   "cell_type": "markdown",
   "metadata": {},
   "source": [
    "線分QRの長さの式に$a$を代入する．"
   ]
  },
  {
   "cell_type": "code",
   "execution_count": 40,
   "metadata": {
    "collapsed": false
   },
   "outputs": [
    {
     "data": {
      "image/png": "[encoded data removed]",
      "text/latex": [
       "$$\\sqrt{3}$$"
      ],
      "text/plain": [
       "√3"
      ]
     },
     "execution_count": 40,
     "metadata": {},
     "output_type": "execute_result"
    }
   ],
   "source": [
    "QRlen.subs(a, sol1[0])"
   ]
  },
  {
   "cell_type": "markdown",
   "metadata": {},
   "source": [
    "したがって，答えは，最小値$\\cdots\\sqrt{3}$，$a$の値$\\cdots\\sqrt{3}$\n",
    "\n",
    "##### (3)"
   ]
  },
  {
   "cell_type": "code",
   "execution_count": 41,
   "metadata": {
    "collapsed": false
   },
   "outputs": [
    {
     "data": {
      "image/png": "[encoded data removed]",
      "text/latex": [
       "$$y = \\sqrt{3} x + 2 x + 1$$"
      ],
      "text/plain": [
       "y = √3⋅x + 2⋅x + 1"
      ]
     },
     "execution_count": 41,
     "metadata": {},
     "output_type": "execute_result"
    }
   ],
   "source": [
    "y_equal(\n",
    "   Eq(\n",
    "       Line(\n",
    "           Triangle(\n",
    "               Q.subs(a,sol1[0]),\n",
    "               A.subs(a,sol1[0]),\n",
    "               R.subs(a,sol1[0])\n",
    "           ).bisectors()[A.subs(a,sol1[0])]\n",
    "       ).equation(),0\n",
    "   )\n",
    ")"
   ]
  },
  {
   "cell_type": "code",
   "execution_count": 42,
   "metadata": {
    "collapsed": true
   },
   "outputs": [],
   "source": [
    "del C, a, A, l, P, ym2, Q, m, R, QRlen, sol1"
   ]
  },
  {
   "cell_type": "markdown",
   "metadata": {},
   "source": [
    "#### [4]\n",
    "\n",
    "##### (1)"
   ]
  },
  {
   "cell_type": "code",
   "execution_count": 44,
   "metadata": {
    "collapsed": false
   },
   "outputs": [
    {
     "data": {
      "image/png": "[encoded data removed]",
      "text/plain": [
       "<matplotlib.figure.Figure at 0x119e34e48>"
      ]
     },
     "metadata": {},
     "output_type": "display_data"
    }
   ],
   "source": [
    "x = Symbol(\"x\")\n",
    "y = Symbol(\"y\")\n",
    "\n",
    "ieq = (Abs(x - 3) + Abs(y - 3)) <= 2\n",
    "\n",
    "sympy.plotting.plot_implicit(ieq)\n",
    "None"
   ]
  },
  {
   "cell_type": "markdown",
   "metadata": {},
   "source": [
    "(2)以降は，sympyらしい解き方が見つからなかったので保留とする．"
   ]
  }
 ],
 "metadata": {
  "kernelspec": {
   "display_name": "Python 3",
   "language": "python",
   "name": "python3"
  },
  "language_info": {
   "codemirror_mode": {
    "name": "ipython",
    "version": 3
   },
   "file_extension": ".py",
   "mimetype": "text/x-python",
   "name": "python",
   "nbconvert_exporter": "python",
   "pygments_lexer": "ipython3",
   "version": "3.6.0"
  }
 },
 "nbformat": 4,
 "nbformat_minor": 2
}
